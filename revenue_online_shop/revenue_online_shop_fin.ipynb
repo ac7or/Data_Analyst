{
 "cells": [
  {
   "cell_type": "markdown",
   "metadata": {},
   "source": [
    "## Описание проекта \"Увеличение выручки интернет-магазина. Гипотезы\"\n",
    "\n",
    "<br>Перед нами данные крупного интернет-магазина. Исследование состоит из 2х частей: первая - этот приоритеизация гипетез, вторая - анализ А/В теста.\n",
    "\n",
    "<br><b>Цель</b> - увеличение выручки.\n",
    "\n",
    "<b>Задачи:</b>\n",
    "1. Приоритиризация гипотез,\n",
    "2. Запуск А/В тестов,\n",
    "3. Анализ результатов\n",
    "\n",
    "### Описание данных\n",
    "\n",
    "<br><b>Файл /datasets/hypothesis.csv.</b> \n",
    "<br>*Hypothesis — краткое описание гипотезы;\n",
    "<br>*Reach — охват пользователей по 10-балльной шкале;\n",
    "<br>*Impact — влияние на пользователей по 10-балльной шкале;\n",
    "<br>*Confidence — уверенность в гипотезе по 10-балльной шкале;\n",
    "<br>*Efforts — затраты ресурсов на проверку гипотезы по 10-балльной шкале. Чем больше значение Efforts, тем дороже проверка гипотезы.\n",
    "\n",
    "<br><b>Файл /datasets/orders.csv.</b>\n",
    "<br>*transactionId — идентификатор заказа;\n",
    "<br>*visitorId — идентификатор пользователя, совершившего заказ;\n",
    "<br>*date — дата, когда был совершён заказ;\n",
    "<br>*revenue — выручка заказа;\n",
    "<br>*group — группа A/B-теста, в которую попал заказ.\n",
    "\n",
    "<br><b>Файл /datasets/visitors.csv. </b>\n",
    "<br>*date — дата;\n",
    "<br>*group — группа A/B-теста;\n",
    "<br>*visitors — количество пользователей в указанную дату в указанной группе A/B-теста\n"
   ]
  },
  {
   "cell_type": "markdown",
   "metadata": {},
   "source": [
    "## Изучение данных"
   ]
  },
  {
   "cell_type": "code",
   "execution_count": 1,
   "metadata": {},
   "outputs": [],
   "source": [
    "# импортируем библиотеки\n",
    "import pandas as pd\n",
    "import matplotlib.pyplot as plt\n",
    "import datetime as dt\n",
    "import numpy as np\n",
    "from scipy import stats as st\n",
    "import math as mth\n",
    "import scipy.stats as stats"
   ]
  },
  {
   "cell_type": "code",
   "execution_count": 2,
   "metadata": {},
   "outputs": [],
   "source": [
    "# скачиваем датасеты\n",
    "hypothesis = pd.read_csv('hypothesis.csv')\n",
    "orders = pd.read_csv('orders.csv')\n",
    "visitors = pd.read_csv('visitors.csv',  sep=',')"
   ]
  },
  {
   "cell_type": "code",
   "execution_count": 3,
   "metadata": {},
   "outputs": [
    {
     "name": "stdout",
     "output_type": "stream",
     "text": [
      "<class 'pandas.core.frame.DataFrame'>\n",
      "RangeIndex: 9 entries, 0 to 8\n",
      "Data columns (total 5 columns):\n",
      " #   Column      Non-Null Count  Dtype \n",
      "---  ------      --------------  ----- \n",
      " 0   Hypothesis  9 non-null      object\n",
      " 1   Reach       9 non-null      int64 \n",
      " 2   Impact      9 non-null      int64 \n",
      " 3   Confidence  9 non-null      int64 \n",
      " 4   Efforts     9 non-null      int64 \n",
      "dtypes: int64(4), object(1)\n",
      "memory usage: 488.0+ bytes\n"
     ]
    },
    {
     "data": {
      "text/html": [
       "<div>\n",
       "<style scoped>\n",
       "    .dataframe tbody tr th:only-of-type {\n",
       "        vertical-align: middle;\n",
       "    }\n",
       "\n",
       "    .dataframe tbody tr th {\n",
       "        vertical-align: top;\n",
       "    }\n",
       "\n",
       "    .dataframe thead th {\n",
       "        text-align: right;\n",
       "    }\n",
       "</style>\n",
       "<table border=\"1\" class=\"dataframe\">\n",
       "  <thead>\n",
       "    <tr style=\"text-align: right;\">\n",
       "      <th></th>\n",
       "      <th>Hypothesis</th>\n",
       "      <th>Reach</th>\n",
       "      <th>Impact</th>\n",
       "      <th>Confidence</th>\n",
       "      <th>Efforts</th>\n",
       "    </tr>\n",
       "  </thead>\n",
       "  <tbody>\n",
       "    <tr>\n",
       "      <th>0</th>\n",
       "      <td>Добавить два новых канала привлечения трафика,...</td>\n",
       "      <td>3</td>\n",
       "      <td>10</td>\n",
       "      <td>8</td>\n",
       "      <td>6</td>\n",
       "    </tr>\n",
       "    <tr>\n",
       "      <th>1</th>\n",
       "      <td>Запустить собственную службу доставки, что сок...</td>\n",
       "      <td>2</td>\n",
       "      <td>5</td>\n",
       "      <td>4</td>\n",
       "      <td>10</td>\n",
       "    </tr>\n",
       "    <tr>\n",
       "      <th>2</th>\n",
       "      <td>Добавить блоки рекомендаций товаров на сайт ин...</td>\n",
       "      <td>8</td>\n",
       "      <td>3</td>\n",
       "      <td>7</td>\n",
       "      <td>3</td>\n",
       "    </tr>\n",
       "    <tr>\n",
       "      <th>3</th>\n",
       "      <td>Изменить структура категорий, что увеличит кон...</td>\n",
       "      <td>8</td>\n",
       "      <td>3</td>\n",
       "      <td>3</td>\n",
       "      <td>8</td>\n",
       "    </tr>\n",
       "    <tr>\n",
       "      <th>4</th>\n",
       "      <td>Изменить цвет фона главной страницы, чтобы уве...</td>\n",
       "      <td>3</td>\n",
       "      <td>1</td>\n",
       "      <td>1</td>\n",
       "      <td>1</td>\n",
       "    </tr>\n",
       "  </tbody>\n",
       "</table>\n",
       "</div>"
      ],
      "text/plain": [
       "                                          Hypothesis  Reach  Impact  \\\n",
       "0  Добавить два новых канала привлечения трафика,...      3      10   \n",
       "1  Запустить собственную службу доставки, что сок...      2       5   \n",
       "2  Добавить блоки рекомендаций товаров на сайт ин...      8       3   \n",
       "3  Изменить структура категорий, что увеличит кон...      8       3   \n",
       "4  Изменить цвет фона главной страницы, чтобы уве...      3       1   \n",
       "\n",
       "   Confidence  Efforts  \n",
       "0           8        6  \n",
       "1           4       10  \n",
       "2           7        3  \n",
       "3           3        8  \n",
       "4           1        1  "
      ]
     },
     "execution_count": 3,
     "metadata": {},
     "output_type": "execute_result"
    }
   ],
   "source": [
    "# изучаем общую информацию о файле hypothesis\n",
    "hypothesis.info()\n",
    "hypothesis.head()"
   ]
  },
  {
   "cell_type": "code",
   "execution_count": 4,
   "metadata": {},
   "outputs": [
    {
     "data": {
      "text/html": [
       "<div>\n",
       "<style scoped>\n",
       "    .dataframe tbody tr th:only-of-type {\n",
       "        vertical-align: middle;\n",
       "    }\n",
       "\n",
       "    .dataframe tbody tr th {\n",
       "        vertical-align: top;\n",
       "    }\n",
       "\n",
       "    .dataframe thead th {\n",
       "        text-align: right;\n",
       "    }\n",
       "</style>\n",
       "<table border=\"1\" class=\"dataframe\">\n",
       "  <thead>\n",
       "    <tr style=\"text-align: right;\">\n",
       "      <th></th>\n",
       "      <th>Hypothesis</th>\n",
       "      <th>Reach</th>\n",
       "      <th>Impact</th>\n",
       "      <th>Confidence</th>\n",
       "      <th>Efforts</th>\n",
       "    </tr>\n",
       "  </thead>\n",
       "  <tbody>\n",
       "    <tr>\n",
       "      <th>0</th>\n",
       "      <td>Добавить два новых канала привлечения трафика, что позволит привлекать на 30% больше пользователей</td>\n",
       "      <td>3</td>\n",
       "      <td>10</td>\n",
       "      <td>8</td>\n",
       "      <td>6</td>\n",
       "    </tr>\n",
       "    <tr>\n",
       "      <th>1</th>\n",
       "      <td>Запустить собственную службу доставки, что сократит срок доставки заказов</td>\n",
       "      <td>2</td>\n",
       "      <td>5</td>\n",
       "      <td>4</td>\n",
       "      <td>10</td>\n",
       "    </tr>\n",
       "    <tr>\n",
       "      <th>2</th>\n",
       "      <td>Добавить блоки рекомендаций товаров на сайт интернет магазина, чтобы повысить конверсию и средний чек заказа</td>\n",
       "      <td>8</td>\n",
       "      <td>3</td>\n",
       "      <td>7</td>\n",
       "      <td>3</td>\n",
       "    </tr>\n",
       "    <tr>\n",
       "      <th>3</th>\n",
       "      <td>Изменить структура категорий, что увеличит конверсию, т.к. пользователи быстрее найдут нужный товар</td>\n",
       "      <td>8</td>\n",
       "      <td>3</td>\n",
       "      <td>3</td>\n",
       "      <td>8</td>\n",
       "    </tr>\n",
       "    <tr>\n",
       "      <th>4</th>\n",
       "      <td>Изменить цвет фона главной страницы, чтобы увеличить вовлеченность пользователей</td>\n",
       "      <td>3</td>\n",
       "      <td>1</td>\n",
       "      <td>1</td>\n",
       "      <td>1</td>\n",
       "    </tr>\n",
       "    <tr>\n",
       "      <th>5</th>\n",
       "      <td>Добавить страницу отзывов клиентов о магазине, что позволит увеличить количество заказов</td>\n",
       "      <td>3</td>\n",
       "      <td>2</td>\n",
       "      <td>2</td>\n",
       "      <td>3</td>\n",
       "    </tr>\n",
       "    <tr>\n",
       "      <th>6</th>\n",
       "      <td>Показать на главной странице баннеры с актуальными акциями и распродажами, чтобы увеличить конверсию</td>\n",
       "      <td>5</td>\n",
       "      <td>3</td>\n",
       "      <td>8</td>\n",
       "      <td>3</td>\n",
       "    </tr>\n",
       "    <tr>\n",
       "      <th>7</th>\n",
       "      <td>Добавить форму подписки на все основные страницы, чтобы собрать базу клиентов для email-рассылок</td>\n",
       "      <td>10</td>\n",
       "      <td>7</td>\n",
       "      <td>8</td>\n",
       "      <td>5</td>\n",
       "    </tr>\n",
       "    <tr>\n",
       "      <th>8</th>\n",
       "      <td>Запустить акцию, дающую скидку на товар в день рождения</td>\n",
       "      <td>1</td>\n",
       "      <td>9</td>\n",
       "      <td>9</td>\n",
       "      <td>5</td>\n",
       "    </tr>\n",
       "  </tbody>\n",
       "</table>\n",
       "</div>"
      ],
      "text/plain": [
       "                                                                                                     Hypothesis  \\\n",
       "0            Добавить два новых канала привлечения трафика, что позволит привлекать на 30% больше пользователей   \n",
       "1                                     Запустить собственную службу доставки, что сократит срок доставки заказов   \n",
       "2  Добавить блоки рекомендаций товаров на сайт интернет магазина, чтобы повысить конверсию и средний чек заказа   \n",
       "3           Изменить структура категорий, что увеличит конверсию, т.к. пользователи быстрее найдут нужный товар   \n",
       "4                              Изменить цвет фона главной страницы, чтобы увеличить вовлеченность пользователей   \n",
       "5                      Добавить страницу отзывов клиентов о магазине, что позволит увеличить количество заказов   \n",
       "6          Показать на главной странице баннеры с актуальными акциями и распродажами, чтобы увеличить конверсию   \n",
       "7              Добавить форму подписки на все основные страницы, чтобы собрать базу клиентов для email-рассылок   \n",
       "8                                                       Запустить акцию, дающую скидку на товар в день рождения   \n",
       "\n",
       "   Reach  Impact  Confidence  Efforts  \n",
       "0      3      10           8        6  \n",
       "1      2       5           4       10  \n",
       "2      8       3           7        3  \n",
       "3      8       3           3        8  \n",
       "4      3       1           1        1  \n",
       "5      3       2           2        3  \n",
       "6      5       3           8        3  \n",
       "7     10       7           8        5  \n",
       "8      1       9           9        5  "
      ]
     },
     "execution_count": 4,
     "metadata": {},
     "output_type": "execute_result"
    }
   ],
   "source": [
    "# расширим ячейку с гипотезами\n",
    "pd.set_option(\"max_colwidth\", 200)\n",
    "hypothesis"
   ]
  },
  {
   "cell_type": "code",
   "execution_count": 5,
   "metadata": {},
   "outputs": [],
   "source": [
    "# приводим названия столбцов к нижнему регистру\n",
    "hypothesis.columns = [x.lower().replace(' ', '_') for x in hypothesis.columns.values]"
   ]
  },
  {
   "cell_type": "code",
   "execution_count": 6,
   "metadata": {},
   "outputs": [
    {
     "data": {
      "text/plain": [
       "Index(['hypothesis', 'reach', 'impact', 'confidence', 'efforts'], dtype='object')"
      ]
     },
     "execution_count": 6,
     "metadata": {},
     "output_type": "execute_result"
    }
   ],
   "source": [
    "# проверка применения кода\n",
    "hypothesis.columns"
   ]
  },
  {
   "cell_type": "markdown",
   "metadata": {},
   "source": [
    "## Часть 1. Приоритизация гипотез"
   ]
  },
  {
   "cell_type": "markdown",
   "metadata": {},
   "source": [
    "### ICE"
   ]
  },
  {
   "cell_type": "markdown",
   "metadata": {},
   "source": [
    "$$ICE = \\frac{Impact * Confidence}{Efforts}$$"
   ]
  },
  {
   "cell_type": "code",
   "execution_count": 7,
   "metadata": {},
   "outputs": [
    {
     "data": {
      "text/html": [
       "<div>\n",
       "<style scoped>\n",
       "    .dataframe tbody tr th:only-of-type {\n",
       "        vertical-align: middle;\n",
       "    }\n",
       "\n",
       "    .dataframe tbody tr th {\n",
       "        vertical-align: top;\n",
       "    }\n",
       "\n",
       "    .dataframe thead th {\n",
       "        text-align: right;\n",
       "    }\n",
       "</style>\n",
       "<table border=\"1\" class=\"dataframe\">\n",
       "  <thead>\n",
       "    <tr style=\"text-align: right;\">\n",
       "      <th></th>\n",
       "      <th>hypothesis</th>\n",
       "      <th>reach</th>\n",
       "      <th>impact</th>\n",
       "      <th>confidence</th>\n",
       "      <th>efforts</th>\n",
       "      <th>ICE</th>\n",
       "    </tr>\n",
       "  </thead>\n",
       "  <tbody>\n",
       "    <tr>\n",
       "      <th>8</th>\n",
       "      <td>Запустить акцию, дающую скидку на товар в день рождения</td>\n",
       "      <td>1</td>\n",
       "      <td>9</td>\n",
       "      <td>9</td>\n",
       "      <td>5</td>\n",
       "      <td>16.20</td>\n",
       "    </tr>\n",
       "    <tr>\n",
       "      <th>0</th>\n",
       "      <td>Добавить два новых канала привлечения трафика, что позволит привлекать на 30% больше пользователей</td>\n",
       "      <td>3</td>\n",
       "      <td>10</td>\n",
       "      <td>8</td>\n",
       "      <td>6</td>\n",
       "      <td>13.33</td>\n",
       "    </tr>\n",
       "    <tr>\n",
       "      <th>7</th>\n",
       "      <td>Добавить форму подписки на все основные страницы, чтобы собрать базу клиентов для email-рассылок</td>\n",
       "      <td>10</td>\n",
       "      <td>7</td>\n",
       "      <td>8</td>\n",
       "      <td>5</td>\n",
       "      <td>11.20</td>\n",
       "    </tr>\n",
       "    <tr>\n",
       "      <th>6</th>\n",
       "      <td>Показать на главной странице баннеры с актуальными акциями и распродажами, чтобы увеличить конверсию</td>\n",
       "      <td>5</td>\n",
       "      <td>3</td>\n",
       "      <td>8</td>\n",
       "      <td>3</td>\n",
       "      <td>8.00</td>\n",
       "    </tr>\n",
       "    <tr>\n",
       "      <th>2</th>\n",
       "      <td>Добавить блоки рекомендаций товаров на сайт интернет магазина, чтобы повысить конверсию и средний чек заказа</td>\n",
       "      <td>8</td>\n",
       "      <td>3</td>\n",
       "      <td>7</td>\n",
       "      <td>3</td>\n",
       "      <td>7.00</td>\n",
       "    </tr>\n",
       "    <tr>\n",
       "      <th>1</th>\n",
       "      <td>Запустить собственную службу доставки, что сократит срок доставки заказов</td>\n",
       "      <td>2</td>\n",
       "      <td>5</td>\n",
       "      <td>4</td>\n",
       "      <td>10</td>\n",
       "      <td>2.00</td>\n",
       "    </tr>\n",
       "    <tr>\n",
       "      <th>5</th>\n",
       "      <td>Добавить страницу отзывов клиентов о магазине, что позволит увеличить количество заказов</td>\n",
       "      <td>3</td>\n",
       "      <td>2</td>\n",
       "      <td>2</td>\n",
       "      <td>3</td>\n",
       "      <td>1.33</td>\n",
       "    </tr>\n",
       "    <tr>\n",
       "      <th>3</th>\n",
       "      <td>Изменить структура категорий, что увеличит конверсию, т.к. пользователи быстрее найдут нужный товар</td>\n",
       "      <td>8</td>\n",
       "      <td>3</td>\n",
       "      <td>3</td>\n",
       "      <td>8</td>\n",
       "      <td>1.12</td>\n",
       "    </tr>\n",
       "    <tr>\n",
       "      <th>4</th>\n",
       "      <td>Изменить цвет фона главной страницы, чтобы увеличить вовлеченность пользователей</td>\n",
       "      <td>3</td>\n",
       "      <td>1</td>\n",
       "      <td>1</td>\n",
       "      <td>1</td>\n",
       "      <td>1.00</td>\n",
       "    </tr>\n",
       "  </tbody>\n",
       "</table>\n",
       "</div>"
      ],
      "text/plain": [
       "                                                                                                     hypothesis  \\\n",
       "8                                                       Запустить акцию, дающую скидку на товар в день рождения   \n",
       "0            Добавить два новых канала привлечения трафика, что позволит привлекать на 30% больше пользователей   \n",
       "7              Добавить форму подписки на все основные страницы, чтобы собрать базу клиентов для email-рассылок   \n",
       "6          Показать на главной странице баннеры с актуальными акциями и распродажами, чтобы увеличить конверсию   \n",
       "2  Добавить блоки рекомендаций товаров на сайт интернет магазина, чтобы повысить конверсию и средний чек заказа   \n",
       "1                                     Запустить собственную службу доставки, что сократит срок доставки заказов   \n",
       "5                      Добавить страницу отзывов клиентов о магазине, что позволит увеличить количество заказов   \n",
       "3           Изменить структура категорий, что увеличит конверсию, т.к. пользователи быстрее найдут нужный товар   \n",
       "4                              Изменить цвет фона главной страницы, чтобы увеличить вовлеченность пользователей   \n",
       "\n",
       "   reach  impact  confidence  efforts    ICE  \n",
       "8      1       9           9        5  16.20  \n",
       "0      3      10           8        6  13.33  \n",
       "7     10       7           8        5  11.20  \n",
       "6      5       3           8        3   8.00  \n",
       "2      8       3           7        3   7.00  \n",
       "1      2       5           4       10   2.00  \n",
       "5      3       2           2        3   1.33  \n",
       "3      8       3           3        8   1.12  \n",
       "4      3       1           1        1   1.00  "
      ]
     },
     "metadata": {},
     "output_type": "display_data"
    }
   ],
   "source": [
    "# применяем фреймворк ICE для приоритизации гипотез. Сортируем их по убыванию приоритета.\n",
    "hypothesis['ICE'] = ((hypothesis['impact']*hypothesis['confidence'])/hypothesis['efforts']).round(2)\n",
    "display(hypothesis.sort_values(by='ICE', ascending = False))"
   ]
  },
  {
   "cell_type": "markdown",
   "metadata": {},
   "source": [
    "### RICE"
   ]
  },
  {
   "cell_type": "markdown",
   "metadata": {},
   "source": [
    "$$RICE = \\frac{Rearch * Impact * Confidence}{Efforts}$$"
   ]
  },
  {
   "cell_type": "code",
   "execution_count": 8,
   "metadata": {},
   "outputs": [
    {
     "data": {
      "text/html": [
       "<div>\n",
       "<style scoped>\n",
       "    .dataframe tbody tr th:only-of-type {\n",
       "        vertical-align: middle;\n",
       "    }\n",
       "\n",
       "    .dataframe tbody tr th {\n",
       "        vertical-align: top;\n",
       "    }\n",
       "\n",
       "    .dataframe thead th {\n",
       "        text-align: right;\n",
       "    }\n",
       "</style>\n",
       "<table border=\"1\" class=\"dataframe\">\n",
       "  <thead>\n",
       "    <tr style=\"text-align: right;\">\n",
       "      <th></th>\n",
       "      <th>hypothesis</th>\n",
       "      <th>reach</th>\n",
       "      <th>impact</th>\n",
       "      <th>confidence</th>\n",
       "      <th>efforts</th>\n",
       "      <th>ICE</th>\n",
       "      <th>RICE</th>\n",
       "    </tr>\n",
       "  </thead>\n",
       "  <tbody>\n",
       "    <tr>\n",
       "      <th>7</th>\n",
       "      <td>Добавить форму подписки на все основные страницы, чтобы собрать базу клиентов для email-рассылок</td>\n",
       "      <td>10</td>\n",
       "      <td>7</td>\n",
       "      <td>8</td>\n",
       "      <td>5</td>\n",
       "      <td>11.20</td>\n",
       "      <td>112.0</td>\n",
       "    </tr>\n",
       "    <tr>\n",
       "      <th>2</th>\n",
       "      <td>Добавить блоки рекомендаций товаров на сайт интернет магазина, чтобы повысить конверсию и средний чек заказа</td>\n",
       "      <td>8</td>\n",
       "      <td>3</td>\n",
       "      <td>7</td>\n",
       "      <td>3</td>\n",
       "      <td>7.00</td>\n",
       "      <td>56.0</td>\n",
       "    </tr>\n",
       "    <tr>\n",
       "      <th>0</th>\n",
       "      <td>Добавить два новых канала привлечения трафика, что позволит привлекать на 30% больше пользователей</td>\n",
       "      <td>3</td>\n",
       "      <td>10</td>\n",
       "      <td>8</td>\n",
       "      <td>6</td>\n",
       "      <td>13.33</td>\n",
       "      <td>40.0</td>\n",
       "    </tr>\n",
       "    <tr>\n",
       "      <th>6</th>\n",
       "      <td>Показать на главной странице баннеры с актуальными акциями и распродажами, чтобы увеличить конверсию</td>\n",
       "      <td>5</td>\n",
       "      <td>3</td>\n",
       "      <td>8</td>\n",
       "      <td>3</td>\n",
       "      <td>8.00</td>\n",
       "      <td>40.0</td>\n",
       "    </tr>\n",
       "    <tr>\n",
       "      <th>8</th>\n",
       "      <td>Запустить акцию, дающую скидку на товар в день рождения</td>\n",
       "      <td>1</td>\n",
       "      <td>9</td>\n",
       "      <td>9</td>\n",
       "      <td>5</td>\n",
       "      <td>16.20</td>\n",
       "      <td>16.2</td>\n",
       "    </tr>\n",
       "    <tr>\n",
       "      <th>3</th>\n",
       "      <td>Изменить структура категорий, что увеличит конверсию, т.к. пользователи быстрее найдут нужный товар</td>\n",
       "      <td>8</td>\n",
       "      <td>3</td>\n",
       "      <td>3</td>\n",
       "      <td>8</td>\n",
       "      <td>1.12</td>\n",
       "      <td>9.0</td>\n",
       "    </tr>\n",
       "    <tr>\n",
       "      <th>1</th>\n",
       "      <td>Запустить собственную службу доставки, что сократит срок доставки заказов</td>\n",
       "      <td>2</td>\n",
       "      <td>5</td>\n",
       "      <td>4</td>\n",
       "      <td>10</td>\n",
       "      <td>2.00</td>\n",
       "      <td>4.0</td>\n",
       "    </tr>\n",
       "    <tr>\n",
       "      <th>5</th>\n",
       "      <td>Добавить страницу отзывов клиентов о магазине, что позволит увеличить количество заказов</td>\n",
       "      <td>3</td>\n",
       "      <td>2</td>\n",
       "      <td>2</td>\n",
       "      <td>3</td>\n",
       "      <td>1.33</td>\n",
       "      <td>4.0</td>\n",
       "    </tr>\n",
       "    <tr>\n",
       "      <th>4</th>\n",
       "      <td>Изменить цвет фона главной страницы, чтобы увеличить вовлеченность пользователей</td>\n",
       "      <td>3</td>\n",
       "      <td>1</td>\n",
       "      <td>1</td>\n",
       "      <td>1</td>\n",
       "      <td>1.00</td>\n",
       "      <td>3.0</td>\n",
       "    </tr>\n",
       "  </tbody>\n",
       "</table>\n",
       "</div>"
      ],
      "text/plain": [
       "                                                                                                     hypothesis  \\\n",
       "7              Добавить форму подписки на все основные страницы, чтобы собрать базу клиентов для email-рассылок   \n",
       "2  Добавить блоки рекомендаций товаров на сайт интернет магазина, чтобы повысить конверсию и средний чек заказа   \n",
       "0            Добавить два новых канала привлечения трафика, что позволит привлекать на 30% больше пользователей   \n",
       "6          Показать на главной странице баннеры с актуальными акциями и распродажами, чтобы увеличить конверсию   \n",
       "8                                                       Запустить акцию, дающую скидку на товар в день рождения   \n",
       "3           Изменить структура категорий, что увеличит конверсию, т.к. пользователи быстрее найдут нужный товар   \n",
       "1                                     Запустить собственную службу доставки, что сократит срок доставки заказов   \n",
       "5                      Добавить страницу отзывов клиентов о магазине, что позволит увеличить количество заказов   \n",
       "4                              Изменить цвет фона главной страницы, чтобы увеличить вовлеченность пользователей   \n",
       "\n",
       "   reach  impact  confidence  efforts    ICE   RICE  \n",
       "7     10       7           8        5  11.20  112.0  \n",
       "2      8       3           7        3   7.00   56.0  \n",
       "0      3      10           8        6  13.33   40.0  \n",
       "6      5       3           8        3   8.00   40.0  \n",
       "8      1       9           9        5  16.20   16.2  \n",
       "3      8       3           3        8   1.12    9.0  \n",
       "1      2       5           4       10   2.00    4.0  \n",
       "5      3       2           2        3   1.33    4.0  \n",
       "4      3       1           1        1   1.00    3.0  "
      ]
     },
     "metadata": {},
     "output_type": "display_data"
    }
   ],
   "source": [
    "# применяем фреймворк RICE для приоритизации гипотез. Сортируем их по убыванию приоритета.\n",
    "hypothesis['RICE']  = ((hypothesis['impact']*hypothesis['confidence']*hypothesis['reach'])/hypothesis['efforts']).round(2)\n",
    "display(hypothesis.sort_values(by='RICE', ascending = False))"
   ]
  },
  {
   "cell_type": "markdown",
   "metadata": {},
   "source": [
    "### График изменения приоритезации по методам ICE & RICE"
   ]
  },
  {
   "cell_type": "code",
   "execution_count": 9,
   "metadata": {},
   "outputs": [
    {
     "data": {
      "image/png": "[encoded data removed]",
      "text/plain": [
       "<Figure size 720x720 with 1 Axes>"
      ]
     },
     "metadata": {
      "needs_background": "light"
     },
     "output_type": "display_data"
    }
   ],
   "source": [
    "# строим график изменения приоритезации по методам\n",
    "hypothesis['Hypothesis_number'] = (['Гипотеза 0', 'Гипотеза 1', 'Гипотеза 2', 'Гипотеза 3', \n",
    "                                    'Гипотеза 4', 'Гипотеза 5', 'Гипотеза 6', 'Гипотеза 7', \n",
    "                                    'Гипотеза 8'])\n",
    "\n",
    "rice = (hypothesis[['Hypothesis_number', 'RICE']]\n",
    "        .sort_values(by='RICE', ascending=False, ignore_index=True))\n",
    "\n",
    "rice['RICE'] = 2\n",
    "\n",
    "rice.rename(columns={'RICE': 'metod'}, inplace=True)\n",
    "\n",
    "ice = (hypothesis[['Hypothesis_number', 'ICE']]\n",
    "       .sort_values(by='ICE', ascending=False, ignore_index=True))\n",
    "\n",
    "ice['ICE'] = 1\n",
    "\n",
    "ice.rename(columns={'ICE': 'metod'}, inplace=True)\n",
    "\n",
    "df_append = rice.append(ice, ignore_index=False) \n",
    "\n",
    "\n",
    "fig, ax = plt.subplots(1, figsize=(10,10))\n",
    "\n",
    "for i in df_append['Hypothesis_number']:\n",
    "    temp = df_append[df_append['Hypothesis_number'] == i]\n",
    "    plt.plot(temp.metod, temp.index, marker='o', markersize=5)\n",
    "    # end label\n",
    "    plt.text(temp.metod.values[0]+0.02, temp.index.values[0], i)\n",
    "    # start label\n",
    "    plt.text(temp.metod.values[1]-0.02, temp.index.values[1], i, ha='right')\n",
    "plt.xlabel('Методы приоритезации гипотез: 1 - ICE, 2 - RICE')\n",
    "plt.ylabel('Ранг гипотезы')\n",
    "plt.xlim(0,3)\n",
    "plt.xticks([1, 2])\n",
    "plt.yticks();"
   ]
  },
  {
   "cell_type": "markdown",
   "metadata": {},
   "source": [
    "<hr style=\"border: 2px solid orange;\" />"
   ]
  },
  {
   "cell_type": "markdown",
   "metadata": {},
   "source": [
    "<br><b>Вывод:</b>\n",
    "<br>При применении метода RICE изменилась приоретизация гипотез, это произошло так как в данном методе мы также учиваем охват аудитории, которых затронет гипотеза, и это в свою очередь, влияет на результат."
   ]
  },
  {
   "cell_type": "markdown",
   "metadata": {},
   "source": [
    "## Часть 2. Анализ A/B-теста"
   ]
  },
  {
   "cell_type": "markdown",
   "metadata": {},
   "source": [
    "### Подготовка данных"
   ]
  },
  {
   "cell_type": "code",
   "execution_count": 10,
   "metadata": {},
   "outputs": [
    {
     "name": "stdout",
     "output_type": "stream",
     "text": [
      "<class 'pandas.core.frame.DataFrame'>\n",
      "RangeIndex: 1197 entries, 0 to 1196\n",
      "Data columns (total 5 columns):\n",
      " #   Column         Non-Null Count  Dtype \n",
      "---  ------         --------------  ----- \n",
      " 0   transactionId  1197 non-null   int64 \n",
      " 1   visitorId      1197 non-null   int64 \n",
      " 2   date           1197 non-null   object\n",
      " 3   revenue        1197 non-null   int64 \n",
      " 4   group          1197 non-null   object\n",
      "dtypes: int64(3), object(2)\n",
      "memory usage: 46.9+ KB\n"
     ]
    },
    {
     "data": {
      "text/html": [
       "<div>\n",
       "<style scoped>\n",
       "    .dataframe tbody tr th:only-of-type {\n",
       "        vertical-align: middle;\n",
       "    }\n",
       "\n",
       "    .dataframe tbody tr th {\n",
       "        vertical-align: top;\n",
       "    }\n",
       "\n",
       "    .dataframe thead th {\n",
       "        text-align: right;\n",
       "    }\n",
       "</style>\n",
       "<table border=\"1\" class=\"dataframe\">\n",
       "  <thead>\n",
       "    <tr style=\"text-align: right;\">\n",
       "      <th></th>\n",
       "      <th>transactionId</th>\n",
       "      <th>visitorId</th>\n",
       "      <th>date</th>\n",
       "      <th>revenue</th>\n",
       "      <th>group</th>\n",
       "    </tr>\n",
       "  </thead>\n",
       "  <tbody>\n",
       "    <tr>\n",
       "      <th>0</th>\n",
       "      <td>3667963787</td>\n",
       "      <td>3312258926</td>\n",
       "      <td>2019-08-15</td>\n",
       "      <td>1650</td>\n",
       "      <td>B</td>\n",
       "    </tr>\n",
       "    <tr>\n",
       "      <th>1</th>\n",
       "      <td>2804400009</td>\n",
       "      <td>3642806036</td>\n",
       "      <td>2019-08-15</td>\n",
       "      <td>730</td>\n",
       "      <td>B</td>\n",
       "    </tr>\n",
       "    <tr>\n",
       "      <th>2</th>\n",
       "      <td>2961555356</td>\n",
       "      <td>4069496402</td>\n",
       "      <td>2019-08-15</td>\n",
       "      <td>400</td>\n",
       "      <td>A</td>\n",
       "    </tr>\n",
       "    <tr>\n",
       "      <th>3</th>\n",
       "      <td>3797467345</td>\n",
       "      <td>1196621759</td>\n",
       "      <td>2019-08-15</td>\n",
       "      <td>9759</td>\n",
       "      <td>B</td>\n",
       "    </tr>\n",
       "    <tr>\n",
       "      <th>4</th>\n",
       "      <td>2282983706</td>\n",
       "      <td>2322279887</td>\n",
       "      <td>2019-08-15</td>\n",
       "      <td>2308</td>\n",
       "      <td>B</td>\n",
       "    </tr>\n",
       "  </tbody>\n",
       "</table>\n",
       "</div>"
      ],
      "text/plain": [
       "   transactionId   visitorId        date  revenue group\n",
       "0     3667963787  3312258926  2019-08-15     1650     B\n",
       "1     2804400009  3642806036  2019-08-15      730     B\n",
       "2     2961555356  4069496402  2019-08-15      400     A\n",
       "3     3797467345  1196621759  2019-08-15     9759     B\n",
       "4     2282983706  2322279887  2019-08-15     2308     B"
      ]
     },
     "execution_count": 10,
     "metadata": {},
     "output_type": "execute_result"
    }
   ],
   "source": [
    "orders.info()\n",
    "orders.head()"
   ]
  },
  {
   "cell_type": "code",
   "execution_count": 11,
   "metadata": {},
   "outputs": [
    {
     "name": "stdout",
     "output_type": "stream",
     "text": [
      "<class 'pandas.core.frame.DataFrame'>\n",
      "RangeIndex: 1197 entries, 0 to 1196\n",
      "Data columns (total 5 columns):\n",
      " #   Column         Non-Null Count  Dtype         \n",
      "---  ------         --------------  -----         \n",
      " 0   transactionId  1197 non-null   int64         \n",
      " 1   visitorId      1197 non-null   int64         \n",
      " 2   date           1197 non-null   datetime64[ns]\n",
      " 3   revenue        1197 non-null   int64         \n",
      " 4   group          1197 non-null   object        \n",
      "dtypes: datetime64[ns](1), int64(3), object(1)\n",
      "memory usage: 46.9+ KB\n"
     ]
    },
    {
     "data": {
      "text/plain": [
       "0"
      ]
     },
     "execution_count": 11,
     "metadata": {},
     "output_type": "execute_result"
    }
   ],
   "source": [
    "# меняем тип данных\n",
    "orders['date'] = pd.to_datetime(orders['date'], format='%Y-%m-%d %H:%M:%S')\n",
    "\n",
    "orders.info()\n",
    "orders.duplicated().sum()"
   ]
  },
  {
   "cell_type": "code",
   "execution_count": 12,
   "metadata": {},
   "outputs": [
    {
     "data": {
      "text/html": [
       "<div>\n",
       "<style scoped>\n",
       "    .dataframe tbody tr th:only-of-type {\n",
       "        vertical-align: middle;\n",
       "    }\n",
       "\n",
       "    .dataframe tbody tr th {\n",
       "        vertical-align: top;\n",
       "    }\n",
       "\n",
       "    .dataframe thead th {\n",
       "        text-align: right;\n",
       "    }\n",
       "</style>\n",
       "<table border=\"1\" class=\"dataframe\">\n",
       "  <thead>\n",
       "    <tr style=\"text-align: right;\">\n",
       "      <th></th>\n",
       "      <th>visitorId</th>\n",
       "    </tr>\n",
       "    <tr>\n",
       "      <th>group</th>\n",
       "      <th></th>\n",
       "    </tr>\n",
       "  </thead>\n",
       "  <tbody>\n",
       "    <tr>\n",
       "      <th>A</th>\n",
       "      <td>503</td>\n",
       "    </tr>\n",
       "    <tr>\n",
       "      <th>B</th>\n",
       "      <td>586</td>\n",
       "    </tr>\n",
       "  </tbody>\n",
       "</table>\n",
       "</div>"
      ],
      "text/plain": [
       "       visitorId\n",
       "group           \n",
       "A            503\n",
       "B            586"
      ]
     },
     "execution_count": 12,
     "metadata": {},
     "output_type": "execute_result"
    }
   ],
   "source": [
    "ordergroup = orders.groupby('group').agg({'visitorId':'nunique'})\n",
    "ordergroup"
   ]
  },
  {
   "cell_type": "code",
   "execution_count": 13,
   "metadata": {},
   "outputs": [
    {
     "name": "stdout",
     "output_type": "stream",
     "text": [
      "<class 'pandas.core.frame.DataFrame'>\n",
      "RangeIndex: 62 entries, 0 to 61\n",
      "Data columns (total 3 columns):\n",
      " #   Column    Non-Null Count  Dtype \n",
      "---  ------    --------------  ----- \n",
      " 0   date      62 non-null     object\n",
      " 1   group     62 non-null     object\n",
      " 2   visitors  62 non-null     int64 \n",
      "dtypes: int64(1), object(2)\n",
      "memory usage: 1.6+ KB\n"
     ]
    },
    {
     "data": {
      "text/html": [
       "<div>\n",
       "<style scoped>\n",
       "    .dataframe tbody tr th:only-of-type {\n",
       "        vertical-align: middle;\n",
       "    }\n",
       "\n",
       "    .dataframe tbody tr th {\n",
       "        vertical-align: top;\n",
       "    }\n",
       "\n",
       "    .dataframe thead th {\n",
       "        text-align: right;\n",
       "    }\n",
       "</style>\n",
       "<table border=\"1\" class=\"dataframe\">\n",
       "  <thead>\n",
       "    <tr style=\"text-align: right;\">\n",
       "      <th></th>\n",
       "      <th>date</th>\n",
       "      <th>group</th>\n",
       "      <th>visitors</th>\n",
       "    </tr>\n",
       "  </thead>\n",
       "  <tbody>\n",
       "    <tr>\n",
       "      <th>0</th>\n",
       "      <td>2019-08-01</td>\n",
       "      <td>A</td>\n",
       "      <td>719</td>\n",
       "    </tr>\n",
       "    <tr>\n",
       "      <th>1</th>\n",
       "      <td>2019-08-02</td>\n",
       "      <td>A</td>\n",
       "      <td>619</td>\n",
       "    </tr>\n",
       "    <tr>\n",
       "      <th>2</th>\n",
       "      <td>2019-08-03</td>\n",
       "      <td>A</td>\n",
       "      <td>507</td>\n",
       "    </tr>\n",
       "    <tr>\n",
       "      <th>3</th>\n",
       "      <td>2019-08-04</td>\n",
       "      <td>A</td>\n",
       "      <td>717</td>\n",
       "    </tr>\n",
       "    <tr>\n",
       "      <th>4</th>\n",
       "      <td>2019-08-05</td>\n",
       "      <td>A</td>\n",
       "      <td>756</td>\n",
       "    </tr>\n",
       "  </tbody>\n",
       "</table>\n",
       "</div>"
      ],
      "text/plain": [
       "         date group  visitors\n",
       "0  2019-08-01     A       719\n",
       "1  2019-08-02     A       619\n",
       "2  2019-08-03     A       507\n",
       "3  2019-08-04     A       717\n",
       "4  2019-08-05     A       756"
      ]
     },
     "execution_count": 13,
     "metadata": {},
     "output_type": "execute_result"
    }
   ],
   "source": [
    "visitors.info()\n",
    "visitors.head()"
   ]
  },
  {
   "cell_type": "code",
   "execution_count": 14,
   "metadata": {},
   "outputs": [
    {
     "name": "stdout",
     "output_type": "stream",
     "text": [
      "<class 'pandas.core.frame.DataFrame'>\n",
      "RangeIndex: 62 entries, 0 to 61\n",
      "Data columns (total 3 columns):\n",
      " #   Column    Non-Null Count  Dtype         \n",
      "---  ------    --------------  -----         \n",
      " 0   date      62 non-null     datetime64[ns]\n",
      " 1   group     62 non-null     object        \n",
      " 2   visitors  62 non-null     int64         \n",
      "dtypes: datetime64[ns](1), int64(1), object(1)\n",
      "memory usage: 1.6+ KB\n"
     ]
    },
    {
     "data": {
      "text/plain": [
       "0"
      ]
     },
     "execution_count": 14,
     "metadata": {},
     "output_type": "execute_result"
    }
   ],
   "source": [
    "# меняем тип данных\n",
    "visitors['date'] = pd.to_datetime(visitors['date'], format='%Y-%m-%d %H:%M:%S')\n",
    "visitors.info()\n",
    "visitors.duplicated().sum()"
   ]
  },
  {
   "cell_type": "code",
   "execution_count": 15,
   "metadata": {},
   "outputs": [
    {
     "data": {
      "text/html": [
       "<div>\n",
       "<style scoped>\n",
       "    .dataframe tbody tr th:only-of-type {\n",
       "        vertical-align: middle;\n",
       "    }\n",
       "\n",
       "    .dataframe tbody tr th {\n",
       "        vertical-align: top;\n",
       "    }\n",
       "\n",
       "    .dataframe thead th {\n",
       "        text-align: right;\n",
       "    }\n",
       "</style>\n",
       "<table border=\"1\" class=\"dataframe\">\n",
       "  <thead>\n",
       "    <tr style=\"text-align: right;\">\n",
       "      <th></th>\n",
       "      <th>visitors</th>\n",
       "    </tr>\n",
       "    <tr>\n",
       "      <th>group</th>\n",
       "      <th></th>\n",
       "    </tr>\n",
       "  </thead>\n",
       "  <tbody>\n",
       "    <tr>\n",
       "      <th>A</th>\n",
       "      <td>18736</td>\n",
       "    </tr>\n",
       "    <tr>\n",
       "      <th>B</th>\n",
       "      <td>18916</td>\n",
       "    </tr>\n",
       "  </tbody>\n",
       "</table>\n",
       "</div>"
      ],
      "text/plain": [
       "       visitors\n",
       "group          \n",
       "A         18736\n",
       "B         18916"
      ]
     },
     "execution_count": 15,
     "metadata": {},
     "output_type": "execute_result"
    }
   ],
   "source": [
    "# проверим распределение посетителей по группам\n",
    "visitors.groupby('group').agg({'visitors':'sum'})"
   ]
  },
  {
   "cell_type": "code",
   "execution_count": 16,
   "metadata": {},
   "outputs": [
    {
     "data": {
      "text/html": [
       "<div>\n",
       "<style scoped>\n",
       "    .dataframe tbody tr th:only-of-type {\n",
       "        vertical-align: middle;\n",
       "    }\n",
       "\n",
       "    .dataframe tbody tr th {\n",
       "        vertical-align: top;\n",
       "    }\n",
       "\n",
       "    .dataframe thead th {\n",
       "        text-align: right;\n",
       "    }\n",
       "</style>\n",
       "<table border=\"1\" class=\"dataframe\">\n",
       "  <thead>\n",
       "    <tr style=\"text-align: right;\">\n",
       "      <th></th>\n",
       "      <th>visitors</th>\n",
       "    </tr>\n",
       "    <tr>\n",
       "      <th>group</th>\n",
       "      <th></th>\n",
       "    </tr>\n",
       "  </thead>\n",
       "  <tbody>\n",
       "    <tr>\n",
       "      <th>A</th>\n",
       "      <td>NaN</td>\n",
       "    </tr>\n",
       "    <tr>\n",
       "      <th>B</th>\n",
       "      <td>0.009607</td>\n",
       "    </tr>\n",
       "  </tbody>\n",
       "</table>\n",
       "</div>"
      ],
      "text/plain": [
       "       visitors\n",
       "group          \n",
       "A           NaN\n",
       "B      0.009607"
      ]
     },
     "execution_count": 16,
     "metadata": {},
     "output_type": "execute_result"
    }
   ],
   "source": [
    "# рассчитаем разницу в процентах\n",
    "visitors.groupby('group').agg({'visitors':'sum'}).pct_change()"
   ]
  },
  {
   "cell_type": "markdown",
   "metadata": {},
   "source": [
    "<br><b>Вывод:</b>\n",
    "<br>"
   ]
  },
  {
   "cell_type": "code",
   "execution_count": 17,
   "metadata": {},
   "outputs": [
    {
     "name": "stdout",
     "output_type": "stream",
     "text": [
      "Кол-во пересекающихся пользователей: 58\n"
     ]
    }
   ],
   "source": [
    "# проверим количество пересекающихся пользователей\n",
    "n_intersection_users = orders.groupby('visitorId').agg({'group': 'nunique'}).query(\"group > 1\").shape[0]\n",
    "print(f\"Кол-во пересекающихся пользователей: {n_intersection_users}\")"
   ]
  },
  {
   "cell_type": "markdown",
   "metadata": {},
   "source": [
    "<hr style=\"border: 2px solid orange;\" />"
   ]
  },
  {
   "cell_type": "markdown",
   "metadata": {},
   "source": [
    "<b>Вывод:</b> на данном этапе мы изучили структуру данных, изменили их тип datetime там где это необходимо, проверили наличие дубликатов, также проверили равномерность распеределния посетителей по группам в каждом файле. Разница между группами составляет менее 1%, также обнаружили 58 пересечений пользователей по группам. "
   ]
  },
  {
   "cell_type": "markdown",
   "metadata": {},
   "source": [
    "### График кумулятивной выручки по группам. "
   ]
  },
  {
   "cell_type": "code",
   "execution_count": 18,
   "metadata": {},
   "outputs": [
    {
     "data": {
      "text/html": [
       "<div>\n",
       "<style scoped>\n",
       "    .dataframe tbody tr th:only-of-type {\n",
       "        vertical-align: middle;\n",
       "    }\n",
       "\n",
       "    .dataframe tbody tr th {\n",
       "        vertical-align: top;\n",
       "    }\n",
       "\n",
       "    .dataframe thead th {\n",
       "        text-align: right;\n",
       "    }\n",
       "</style>\n",
       "<table border=\"1\" class=\"dataframe\">\n",
       "  <thead>\n",
       "    <tr style=\"text-align: right;\">\n",
       "      <th></th>\n",
       "      <th>date</th>\n",
       "      <th>group</th>\n",
       "    </tr>\n",
       "  </thead>\n",
       "  <tbody>\n",
       "    <tr>\n",
       "      <th>0</th>\n",
       "      <td>2019-08-15</td>\n",
       "      <td>B</td>\n",
       "    </tr>\n",
       "    <tr>\n",
       "      <th>2</th>\n",
       "      <td>2019-08-15</td>\n",
       "      <td>A</td>\n",
       "    </tr>\n",
       "    <tr>\n",
       "      <th>45</th>\n",
       "      <td>2019-08-16</td>\n",
       "      <td>A</td>\n",
       "    </tr>\n",
       "    <tr>\n",
       "      <th>47</th>\n",
       "      <td>2019-08-16</td>\n",
       "      <td>B</td>\n",
       "    </tr>\n",
       "    <tr>\n",
       "      <th>55</th>\n",
       "      <td>2019-08-01</td>\n",
       "      <td>A</td>\n",
       "    </tr>\n",
       "    <tr>\n",
       "      <th>...</th>\n",
       "      <td>...</td>\n",
       "      <td>...</td>\n",
       "    </tr>\n",
       "    <tr>\n",
       "      <th>1068</th>\n",
       "      <td>2019-08-12</td>\n",
       "      <td>A</td>\n",
       "    </tr>\n",
       "    <tr>\n",
       "      <th>1114</th>\n",
       "      <td>2019-08-13</td>\n",
       "      <td>B</td>\n",
       "    </tr>\n",
       "    <tr>\n",
       "      <th>1116</th>\n",
       "      <td>2019-08-13</td>\n",
       "      <td>A</td>\n",
       "    </tr>\n",
       "    <tr>\n",
       "      <th>1149</th>\n",
       "      <td>2019-08-14</td>\n",
       "      <td>B</td>\n",
       "    </tr>\n",
       "    <tr>\n",
       "      <th>1150</th>\n",
       "      <td>2019-08-14</td>\n",
       "      <td>A</td>\n",
       "    </tr>\n",
       "  </tbody>\n",
       "</table>\n",
       "<p>62 rows × 2 columns</p>\n",
       "</div>"
      ],
      "text/plain": [
       "           date group\n",
       "0    2019-08-15     B\n",
       "2    2019-08-15     A\n",
       "45   2019-08-16     A\n",
       "47   2019-08-16     B\n",
       "55   2019-08-01     A\n",
       "...         ...   ...\n",
       "1068 2019-08-12     A\n",
       "1114 2019-08-13     B\n",
       "1116 2019-08-13     A\n",
       "1149 2019-08-14     B\n",
       "1150 2019-08-14     A\n",
       "\n",
       "[62 rows x 2 columns]"
      ]
     },
     "execution_count": 18,
     "metadata": {},
     "output_type": "execute_result"
    }
   ],
   "source": [
    "# создаем массив уникальных пар значений дат и групп теста\n",
    "datesGroups = orders[['date','group']].drop_duplicates() \n",
    "datesGroups"
   ]
  },
  {
   "cell_type": "code",
   "execution_count": 19,
   "metadata": {},
   "outputs": [
    {
     "data": {
      "text/html": [
       "<div>\n",
       "<style scoped>\n",
       "    .dataframe tbody tr th:only-of-type {\n",
       "        vertical-align: middle;\n",
       "    }\n",
       "\n",
       "    .dataframe tbody tr th {\n",
       "        vertical-align: top;\n",
       "    }\n",
       "\n",
       "    .dataframe thead th {\n",
       "        text-align: right;\n",
       "    }\n",
       "</style>\n",
       "<table border=\"1\" class=\"dataframe\">\n",
       "  <thead>\n",
       "    <tr style=\"text-align: right;\">\n",
       "      <th></th>\n",
       "      <th>date</th>\n",
       "      <th>group</th>\n",
       "      <th>transactionId</th>\n",
       "      <th>visitorId</th>\n",
       "      <th>revenue</th>\n",
       "    </tr>\n",
       "  </thead>\n",
       "  <tbody>\n",
       "    <tr>\n",
       "      <th>55</th>\n",
       "      <td>2019-08-01</td>\n",
       "      <td>A</td>\n",
       "      <td>24</td>\n",
       "      <td>20</td>\n",
       "      <td>148579</td>\n",
       "    </tr>\n",
       "    <tr>\n",
       "      <th>66</th>\n",
       "      <td>2019-08-01</td>\n",
       "      <td>B</td>\n",
       "      <td>21</td>\n",
       "      <td>20</td>\n",
       "      <td>101217</td>\n",
       "    </tr>\n",
       "    <tr>\n",
       "      <th>175</th>\n",
       "      <td>2019-08-02</td>\n",
       "      <td>A</td>\n",
       "      <td>44</td>\n",
       "      <td>38</td>\n",
       "      <td>242401</td>\n",
       "    </tr>\n",
       "    <tr>\n",
       "      <th>173</th>\n",
       "      <td>2019-08-02</td>\n",
       "      <td>B</td>\n",
       "      <td>45</td>\n",
       "      <td>43</td>\n",
       "      <td>266748</td>\n",
       "    </tr>\n",
       "    <tr>\n",
       "      <th>291</th>\n",
       "      <td>2019-08-03</td>\n",
       "      <td>A</td>\n",
       "      <td>68</td>\n",
       "      <td>62</td>\n",
       "      <td>354874</td>\n",
       "    </tr>\n",
       "    <tr>\n",
       "      <th>...</th>\n",
       "      <td>...</td>\n",
       "      <td>...</td>\n",
       "      <td>...</td>\n",
       "      <td>...</td>\n",
       "      <td>...</td>\n",
       "    </tr>\n",
       "    <tr>\n",
       "      <th>496</th>\n",
       "      <td>2019-08-29</td>\n",
       "      <td>B</td>\n",
       "      <td>596</td>\n",
       "      <td>544</td>\n",
       "      <td>5559398</td>\n",
       "    </tr>\n",
       "    <tr>\n",
       "      <th>730</th>\n",
       "      <td>2019-08-30</td>\n",
       "      <td>A</td>\n",
       "      <td>545</td>\n",
       "      <td>493</td>\n",
       "      <td>4022970</td>\n",
       "    </tr>\n",
       "    <tr>\n",
       "      <th>690</th>\n",
       "      <td>2019-08-30</td>\n",
       "      <td>B</td>\n",
       "      <td>620</td>\n",
       "      <td>567</td>\n",
       "      <td>5774631</td>\n",
       "    </tr>\n",
       "    <tr>\n",
       "      <th>958</th>\n",
       "      <td>2019-08-31</td>\n",
       "      <td>A</td>\n",
       "      <td>557</td>\n",
       "      <td>503</td>\n",
       "      <td>4084803</td>\n",
       "    </tr>\n",
       "    <tr>\n",
       "      <th>930</th>\n",
       "      <td>2019-08-31</td>\n",
       "      <td>B</td>\n",
       "      <td>640</td>\n",
       "      <td>586</td>\n",
       "      <td>5907760</td>\n",
       "    </tr>\n",
       "  </tbody>\n",
       "</table>\n",
       "<p>62 rows × 5 columns</p>\n",
       "</div>"
      ],
      "text/plain": [
       "          date group  transactionId  visitorId  revenue\n",
       "55  2019-08-01     A             24         20   148579\n",
       "66  2019-08-01     B             21         20   101217\n",
       "175 2019-08-02     A             44         38   242401\n",
       "173 2019-08-02     B             45         43   266748\n",
       "291 2019-08-03     A             68         62   354874\n",
       "..         ...   ...            ...        ...      ...\n",
       "496 2019-08-29     B            596        544  5559398\n",
       "730 2019-08-30     A            545        493  4022970\n",
       "690 2019-08-30     B            620        567  5774631\n",
       "958 2019-08-31     A            557        503  4084803\n",
       "930 2019-08-31     B            640        586  5907760\n",
       "\n",
       "[62 rows x 5 columns]"
      ]
     },
     "execution_count": 19,
     "metadata": {},
     "output_type": "execute_result"
    }
   ],
   "source": [
    "# Получим строки таблицы orders, дата которых меньше или равна дате элемента из datesGroups, а группа теста равна группе из datesGroups:\n",
    "ordersAggregated = datesGroups.apply(lambda x: orders[np.logical_and(orders['date'] <= x['date'], orders['group'] == x['group'])]\\\n",
    ".agg({'date' : 'max', 'group' : 'max', 'transactionId' : 'nunique', 'visitorId' : 'nunique', 'revenue' : 'sum'}), axis=1).sort_values(by=['date','group']) \n",
    "ordersAggregated"
   ]
  },
  {
   "cell_type": "code",
   "execution_count": 20,
   "metadata": {},
   "outputs": [
    {
     "data": {
      "text/html": [
       "<div>\n",
       "<style scoped>\n",
       "    .dataframe tbody tr th:only-of-type {\n",
       "        vertical-align: middle;\n",
       "    }\n",
       "\n",
       "    .dataframe tbody tr th {\n",
       "        vertical-align: top;\n",
       "    }\n",
       "\n",
       "    .dataframe thead th {\n",
       "        text-align: right;\n",
       "    }\n",
       "</style>\n",
       "<table border=\"1\" class=\"dataframe\">\n",
       "  <thead>\n",
       "    <tr style=\"text-align: right;\">\n",
       "      <th></th>\n",
       "      <th>date</th>\n",
       "      <th>group</th>\n",
       "      <th>visitors</th>\n",
       "    </tr>\n",
       "  </thead>\n",
       "  <tbody>\n",
       "    <tr>\n",
       "      <th>55</th>\n",
       "      <td>2019-08-01</td>\n",
       "      <td>A</td>\n",
       "      <td>719</td>\n",
       "    </tr>\n",
       "    <tr>\n",
       "      <th>66</th>\n",
       "      <td>2019-08-01</td>\n",
       "      <td>B</td>\n",
       "      <td>713</td>\n",
       "    </tr>\n",
       "    <tr>\n",
       "      <th>175</th>\n",
       "      <td>2019-08-02</td>\n",
       "      <td>A</td>\n",
       "      <td>1338</td>\n",
       "    </tr>\n",
       "    <tr>\n",
       "      <th>173</th>\n",
       "      <td>2019-08-02</td>\n",
       "      <td>B</td>\n",
       "      <td>1294</td>\n",
       "    </tr>\n",
       "    <tr>\n",
       "      <th>291</th>\n",
       "      <td>2019-08-03</td>\n",
       "      <td>A</td>\n",
       "      <td>1845</td>\n",
       "    </tr>\n",
       "    <tr>\n",
       "      <th>...</th>\n",
       "      <td>...</td>\n",
       "      <td>...</td>\n",
       "      <td>...</td>\n",
       "    </tr>\n",
       "    <tr>\n",
       "      <th>496</th>\n",
       "      <td>2019-08-29</td>\n",
       "      <td>B</td>\n",
       "      <td>17708</td>\n",
       "    </tr>\n",
       "    <tr>\n",
       "      <th>730</th>\n",
       "      <td>2019-08-30</td>\n",
       "      <td>A</td>\n",
       "      <td>18037</td>\n",
       "    </tr>\n",
       "    <tr>\n",
       "      <th>690</th>\n",
       "      <td>2019-08-30</td>\n",
       "      <td>B</td>\n",
       "      <td>18198</td>\n",
       "    </tr>\n",
       "    <tr>\n",
       "      <th>958</th>\n",
       "      <td>2019-08-31</td>\n",
       "      <td>A</td>\n",
       "      <td>18736</td>\n",
       "    </tr>\n",
       "    <tr>\n",
       "      <th>930</th>\n",
       "      <td>2019-08-31</td>\n",
       "      <td>B</td>\n",
       "      <td>18916</td>\n",
       "    </tr>\n",
       "  </tbody>\n",
       "</table>\n",
       "<p>62 rows × 3 columns</p>\n",
       "</div>"
      ],
      "text/plain": [
       "          date group  visitors\n",
       "55  2019-08-01     A       719\n",
       "66  2019-08-01     B       713\n",
       "175 2019-08-02     A      1338\n",
       "173 2019-08-02     B      1294\n",
       "291 2019-08-03     A      1845\n",
       "..         ...   ...       ...\n",
       "496 2019-08-29     B     17708\n",
       "730 2019-08-30     A     18037\n",
       "690 2019-08-30     B     18198\n",
       "958 2019-08-31     A     18736\n",
       "930 2019-08-31     B     18916\n",
       "\n",
       "[62 rows x 3 columns]"
      ]
     },
     "execution_count": 20,
     "metadata": {},
     "output_type": "execute_result"
    }
   ],
   "source": [
    "# получим агрегированные кумулятивные по дням данные о посетителях интернет-магазина:\n",
    "visitorsAggregated = datesGroups.apply(lambda x: visitors[np.logical_and(visitors['date'] <= x['date'], visitors['group'] == x['group'])].agg({'date' : 'max', 'group' : 'max', 'visitors' : 'sum'}), axis=1).sort_values(by=['date','group']) \n",
    "visitorsAggregated"
   ]
  },
  {
   "cell_type": "code",
   "execution_count": 21,
   "metadata": {},
   "outputs": [
    {
     "data": {
      "text/html": [
       "<div>\n",
       "<style scoped>\n",
       "    .dataframe tbody tr th:only-of-type {\n",
       "        vertical-align: middle;\n",
       "    }\n",
       "\n",
       "    .dataframe tbody tr th {\n",
       "        vertical-align: top;\n",
       "    }\n",
       "\n",
       "    .dataframe thead th {\n",
       "        text-align: right;\n",
       "    }\n",
       "</style>\n",
       "<table border=\"1\" class=\"dataframe\">\n",
       "  <thead>\n",
       "    <tr style=\"text-align: right;\">\n",
       "      <th></th>\n",
       "      <th>date</th>\n",
       "      <th>group</th>\n",
       "      <th>orders</th>\n",
       "      <th>buyers</th>\n",
       "      <th>revenue</th>\n",
       "      <th>visitors</th>\n",
       "    </tr>\n",
       "  </thead>\n",
       "  <tbody>\n",
       "    <tr>\n",
       "      <th>0</th>\n",
       "      <td>2019-08-01</td>\n",
       "      <td>A</td>\n",
       "      <td>24</td>\n",
       "      <td>20</td>\n",
       "      <td>148579</td>\n",
       "      <td>719</td>\n",
       "    </tr>\n",
       "    <tr>\n",
       "      <th>1</th>\n",
       "      <td>2019-08-01</td>\n",
       "      <td>B</td>\n",
       "      <td>21</td>\n",
       "      <td>20</td>\n",
       "      <td>101217</td>\n",
       "      <td>713</td>\n",
       "    </tr>\n",
       "    <tr>\n",
       "      <th>2</th>\n",
       "      <td>2019-08-02</td>\n",
       "      <td>A</td>\n",
       "      <td>44</td>\n",
       "      <td>38</td>\n",
       "      <td>242401</td>\n",
       "      <td>1338</td>\n",
       "    </tr>\n",
       "    <tr>\n",
       "      <th>3</th>\n",
       "      <td>2019-08-02</td>\n",
       "      <td>B</td>\n",
       "      <td>45</td>\n",
       "      <td>43</td>\n",
       "      <td>266748</td>\n",
       "      <td>1294</td>\n",
       "    </tr>\n",
       "    <tr>\n",
       "      <th>4</th>\n",
       "      <td>2019-08-03</td>\n",
       "      <td>A</td>\n",
       "      <td>68</td>\n",
       "      <td>62</td>\n",
       "      <td>354874</td>\n",
       "      <td>1845</td>\n",
       "    </tr>\n",
       "    <tr>\n",
       "      <th>...</th>\n",
       "      <td>...</td>\n",
       "      <td>...</td>\n",
       "      <td>...</td>\n",
       "      <td>...</td>\n",
       "      <td>...</td>\n",
       "      <td>...</td>\n",
       "    </tr>\n",
       "    <tr>\n",
       "      <th>57</th>\n",
       "      <td>2019-08-29</td>\n",
       "      <td>B</td>\n",
       "      <td>596</td>\n",
       "      <td>544</td>\n",
       "      <td>5559398</td>\n",
       "      <td>17708</td>\n",
       "    </tr>\n",
       "    <tr>\n",
       "      <th>58</th>\n",
       "      <td>2019-08-30</td>\n",
       "      <td>A</td>\n",
       "      <td>545</td>\n",
       "      <td>493</td>\n",
       "      <td>4022970</td>\n",
       "      <td>18037</td>\n",
       "    </tr>\n",
       "    <tr>\n",
       "      <th>59</th>\n",
       "      <td>2019-08-30</td>\n",
       "      <td>B</td>\n",
       "      <td>620</td>\n",
       "      <td>567</td>\n",
       "      <td>5774631</td>\n",
       "      <td>18198</td>\n",
       "    </tr>\n",
       "    <tr>\n",
       "      <th>60</th>\n",
       "      <td>2019-08-31</td>\n",
       "      <td>A</td>\n",
       "      <td>557</td>\n",
       "      <td>503</td>\n",
       "      <td>4084803</td>\n",
       "      <td>18736</td>\n",
       "    </tr>\n",
       "    <tr>\n",
       "      <th>61</th>\n",
       "      <td>2019-08-31</td>\n",
       "      <td>B</td>\n",
       "      <td>640</td>\n",
       "      <td>586</td>\n",
       "      <td>5907760</td>\n",
       "      <td>18916</td>\n",
       "    </tr>\n",
       "  </tbody>\n",
       "</table>\n",
       "<p>62 rows × 6 columns</p>\n",
       "</div>"
      ],
      "text/plain": [
       "         date group  orders  buyers  revenue  visitors\n",
       "0  2019-08-01     A      24      20   148579       719\n",
       "1  2019-08-01     B      21      20   101217       713\n",
       "2  2019-08-02     A      44      38   242401      1338\n",
       "3  2019-08-02     B      45      43   266748      1294\n",
       "4  2019-08-03     A      68      62   354874      1845\n",
       "..        ...   ...     ...     ...      ...       ...\n",
       "57 2019-08-29     B     596     544  5559398     17708\n",
       "58 2019-08-30     A     545     493  4022970     18037\n",
       "59 2019-08-30     B     620     567  5774631     18198\n",
       "60 2019-08-31     A     557     503  4084803     18736\n",
       "61 2019-08-31     B     640     586  5907760     18916\n",
       "\n",
       "[62 rows x 6 columns]"
      ]
     },
     "execution_count": 21,
     "metadata": {},
     "output_type": "execute_result"
    }
   ],
   "source": [
    "# Объединим обе таблицы в одну с понятными названиями столбцов:\n",
    "# создаем массив уникальных пар значений дат и групп теста\n",
    "datesGroups = orders[['date','group']].drop_duplicates()\n",
    "\n",
    "# получаем агрегированные кумулятивные по дням данные о заказах \n",
    "ordersAggregated = datesGroups.apply(lambda x: orders[np.logical_and(orders['date'] <= x['date'], orders['group'] == x['group'])].agg({'date' : 'max', 'group' : 'max', 'transactionId' : 'nunique', 'visitorId' : 'nunique', 'revenue' : 'sum'}), axis=1).sort_values(by=['date','group'])\n",
    "\n",
    "# получаем агрегированные кумулятивные по дням данные о посетителях интернет-магазина \n",
    "visitorsAggregated = datesGroups.apply(lambda x: visitors[np.logical_and(visitors['date'] <= x['date'], visitors['group'] == x['group'])].agg({'date' : 'max', 'group' : 'max', 'visitors' : 'sum'}), axis=1).sort_values(by=['date','group'])\n",
    "\n",
    "# объединяем кумулятивные данные в одной таблице и присваиваем ее столбцам понятные названия\n",
    "cumulativeData = ordersAggregated.merge(visitorsAggregated, left_on=['date', 'group'], right_on=['date', 'group'])\n",
    "cumulativeData.columns = ['date', 'group', 'orders', 'buyers', 'revenue', 'visitors']\n",
    "cumulativeData"
   ]
  },
  {
   "cell_type": "code",
   "execution_count": 22,
   "metadata": {},
   "outputs": [
    {
     "data": {
      "text/html": [
       "<div>\n",
       "<style scoped>\n",
       "    .dataframe tbody tr th:only-of-type {\n",
       "        vertical-align: middle;\n",
       "    }\n",
       "\n",
       "    .dataframe tbody tr th {\n",
       "        vertical-align: top;\n",
       "    }\n",
       "\n",
       "    .dataframe thead th {\n",
       "        text-align: right;\n",
       "    }\n",
       "</style>\n",
       "<table border=\"1\" class=\"dataframe\">\n",
       "  <thead>\n",
       "    <tr style=\"text-align: right;\">\n",
       "      <th></th>\n",
       "      <th>visitors</th>\n",
       "      <th>orders</th>\n",
       "    </tr>\n",
       "    <tr>\n",
       "      <th>group</th>\n",
       "      <th></th>\n",
       "      <th></th>\n",
       "    </tr>\n",
       "  </thead>\n",
       "  <tbody>\n",
       "    <tr>\n",
       "      <th>A</th>\n",
       "      <td>31</td>\n",
       "      <td>31</td>\n",
       "    </tr>\n",
       "    <tr>\n",
       "      <th>B</th>\n",
       "      <td>31</td>\n",
       "      <td>31</td>\n",
       "    </tr>\n",
       "  </tbody>\n",
       "</table>\n",
       "</div>"
      ],
      "text/plain": [
       "       visitors  orders\n",
       "group                  \n",
       "A            31      31\n",
       "B            31      31"
      ]
     },
     "execution_count": 22,
     "metadata": {},
     "output_type": "execute_result"
    }
   ],
   "source": [
    "# проверяем количество посетителей в каждой группе\n",
    "datesGroupsp = cumulativeData.groupby('group').agg({'visitors':'nunique','orders':'nunique'})\n",
    "datesGroupsp"
   ]
  },
  {
   "cell_type": "code",
   "execution_count": 23,
   "metadata": {},
   "outputs": [
    {
     "data": {
      "image/png": "[encoded data removed]",
      "text/plain": [
       "<Figure size 864x432 with 1 Axes>"
      ]
     },
     "metadata": {
      "needs_background": "light"
     },
     "output_type": "display_data"
    }
   ],
   "source": [
    "# Построим графики кумулятивной выручки по дням и группам A/B-тестирования:\n",
    "\n",
    "# датафрейм с кумулятивным количеством заказов и кумулятивной выручкой по дням в группе А\n",
    "cumulativeRevenueA = cumulativeData[cumulativeData['group']=='A'][['date','revenue', 'orders']]\n",
    "\n",
    "# датафрейм с кумулятивным количеством заказов и кумулятивной выручкой по дням в группе B\n",
    "cumulativeRevenueB = cumulativeData[cumulativeData['group']=='B'][['date','revenue', 'orders']]\n",
    "\n",
    "# Строим график выручки группы А\n",
    "plt.figure(figsize=(12,6))\n",
    "plt.plot(cumulativeRevenueA['date'], cumulativeRevenueA['revenue'], label='A')\n",
    "plt.xlabel(\"date\")\n",
    "plt.ylabel(\"revenue\")\n",
    "\n",
    "# Строим график выручки группы B\n",
    "plt.plot(cumulativeRevenueB['date'], cumulativeRevenueB['revenue'], label='B')\n",
    "plt.title('Кумулятивная выручка по дням и группам')\n",
    "plt.legend();\n"
   ]
  },
  {
   "cell_type": "markdown",
   "metadata": {},
   "source": [
    "<b>Вывод:</b> Выручка группы А почти равномерно увеличивается в течение всего теста. Хороший знак.\n",
    "Однако графики выручки группы В в нескольких точках резко растут. Это может сигнализировать о всплесках числа заказов, либо о появлении очень дорогих заказов в выборке."
   ]
  },
  {
   "cell_type": "markdown",
   "metadata": {},
   "source": [
    "### Средний чек по группам"
   ]
  },
  {
   "cell_type": "code",
   "execution_count": 24,
   "metadata": {},
   "outputs": [
    {
     "data": {
      "image/png": "[encoded data removed]",
      "text/plain": [
       "<Figure size 864x432 with 2 Axes>"
      ]
     },
     "metadata": {
      "needs_background": "light"
     },
     "output_type": "display_data"
    }
   ],
   "source": [
    "# Построим графики среднего чека по группам — разделим кумулятивную выручку на кумулятивное число заказов:\n",
    "fig, axes = plt.subplots(nrows=2, figsize=(12,6))\n",
    "plt.subplots_adjust(hspace=0.5)\n",
    "\n",
    "ax = axes[0]\n",
    "ax.set_xlabel(\"date\")\n",
    "ax.set_ylabel(\"revenue\")\n",
    "ax.plot(cumulativeRevenueA['date'], cumulativeRevenueA['revenue']/cumulativeRevenueA['orders'], label='A')\n",
    "ax.plot(cumulativeRevenueB['date'], cumulativeRevenueB['revenue']/cumulativeRevenueB['orders'], label='B')\n",
    "ax.set_title('Средний чек по группам')\n",
    "ax.legend();\n",
    "\n",
    "# собираем данные в одном датафрейме\n",
    "mergedCumulativeRevenue = cumulativeRevenueA.merge(cumulativeRevenueB, left_on='date', right_on='date', how='left', suffixes=['A', 'B'])\n",
    "ax = axes[1]\n",
    "ax.set_xlabel(\"date\")\n",
    "ax.set_ylabel(\"revenue\")\n",
    "ax.plot(mergedCumulativeRevenue['date'], (mergedCumulativeRevenue['revenueB']/mergedCumulativeRevenue['ordersB'])/(mergedCumulativeRevenue['revenueA']/mergedCumulativeRevenue['ordersA'])-1,\n",
    "       color='green')\n",
    "\n",
    "# добавляем ось X\n",
    "ax.axhline(y=0, color='black', linestyle='--') \n",
    "ax.set_title('Относительное различие для среднего чека');"
   ]
  },
  {
   "cell_type": "markdown",
   "metadata": {},
   "source": [
    "<b>Вывод:</b> Как и в данных по кумулятиной выручке в группе В наблюдаются резкий скачок, что может быть связяно в очень дорогим заказом.\n",
    "Согласно графику относительного различия чеков можно сделать вывод, что средний чек группы В выше, за исключением 13 августа 2019, когда средний чек группы А превысил группу В."
   ]
  },
  {
   "cell_type": "markdown",
   "metadata": {},
   "source": [
    "### Кумулятивная конверсия"
   ]
  },
  {
   "cell_type": "code",
   "execution_count": 25,
   "metadata": {},
   "outputs": [
    {
     "data": {
      "image/png": "[encoded data removed]",
      "text/plain": [
       "<Figure size 864x432 with 1 Axes>"
      ]
     },
     "metadata": {
      "needs_background": "light"
     },
     "output_type": "display_data"
    },
    {
     "data": {
      "image/png": "[encoded data removed]",
      "text/plain": [
       "<Figure size 864x432 with 1 Axes>"
      ]
     },
     "metadata": {
      "needs_background": "light"
     },
     "output_type": "display_data"
    }
   ],
   "source": [
    "# Аналогично проанализируем график кумулятивной конверсии. \n",
    "\n",
    "# считаем кумулятивную конверсию\n",
    "cumulativeData['conversion'] = cumulativeData['orders']/cumulativeData['visitors']\n",
    "\n",
    "# отделяем данные по группе A\n",
    "cumulativeDataA = cumulativeData[cumulativeData['group']=='A']\n",
    "\n",
    "# отделяем данные по группе B\n",
    "cumulativeDataB = cumulativeData[cumulativeData['group']=='B']\n",
    "\n",
    "# строим графики\n",
    "plt.figure(figsize=(12,6))\n",
    "plt.xlabel(\"date\")\n",
    "plt.ylabel(\"revenue\")\n",
    "plt.plot(cumulativeDataA['date'], cumulativeDataA['conversion'], label='A')\n",
    "plt.plot(cumulativeDataB['date'], cumulativeDataB['conversion'], label='B')\n",
    "plt.title('Кумулятивная конверсия')\n",
    "plt.legend();\n",
    "#Построим график относительного различия кумулятивных конверсий:\n",
    "\n",
    "mergedCumulativeConversions = cumulativeDataA[['date','conversion']].merge(cumulativeDataB[['date','conversion']], left_on='date', right_on='date', how='left', suffixes=['A', 'B'])\n",
    "plt.figure(figsize=(12,6))\n",
    "plt.xlabel(\"date\")\n",
    "plt.ylabel(\"revenue\")\n",
    "plt.plot(mergedCumulativeConversions['date'], mergedCumulativeConversions['conversionB']/mergedCumulativeConversions['conversionA']-1, label=\"Относительный прирост конверсии группы B относительно группы A\")\n",
    "plt.legend()\n",
    "\n",
    "plt.axhline(y=0, color='black', linestyle='--')\n",
    "plt.axhline(y=-0.1, color='grey', linestyle='--')\n",
    "plt.title('Относительное различие кумулятивных конверсий');\n"
   ]
  },
  {
   "cell_type": "markdown",
   "metadata": {},
   "source": [
    "<b>Вывод:</b> Конверсия группы В значительно выше , чем у группы А, вероятно, это также связано с дорогими заказами. Данную тенденцию также можно наблюдать на графике относительного различия кумулятивных конверсий, за исключенем 3 августа 2019 г, когда конверсия группы А привысили конверсию группы В."
   ]
  },
  {
   "cell_type": "markdown",
   "metadata": {},
   "source": [
    "### Накопительная выручка по пользователям"
   ]
  },
  {
   "cell_type": "code",
   "execution_count": 26,
   "metadata": {},
   "outputs": [
    {
     "data": {
      "image/png": "[encoded data removed]",
      "text/plain": [
       "<Figure size 432x288 with 1 Axes>"
      ]
     },
     "metadata": {
      "needs_background": "light"
     },
     "output_type": "display_data"
    }
   ],
   "source": [
    "# Постройте точечный график количества заказов по пользователям.\n",
    "x_values = pd.Series(range(0,len(cumulativeData['revenue']))) \n",
    "plt.scatter(x_values, cumulativeData['revenue'])\n",
    "plt.xlabel(\"visitor\")\n",
    "plt.ylabel(\"revenue\")\n",
    "plt.title('Накопительная выручка по пользователям');"
   ]
  },
  {
   "cell_type": "code",
   "execution_count": 27,
   "metadata": {},
   "outputs": [
    {
     "name": "stdout",
     "output_type": "stream",
     "text": [
      "[5323467.6   5661633.675 5826551.31 ]\n"
     ]
    }
   ],
   "source": [
    "# Посчитайте 95-й и 99-й перцентили количества заказов на пользователя.\n",
    "print(np.percentile(cumulativeData['revenue'], [95, 97.5, 99])) "
   ]
  },
  {
   "cell_type": "markdown",
   "metadata": {},
   "source": [
    "<b>Вывод:</b> Не более 5% выручки больше 5661633.675 рублей и не более 1% дороже 5826551.31 рублей."
   ]
  },
  {
   "cell_type": "markdown",
   "metadata": {},
   "source": [
    "### Число заказов на 1го пользователя"
   ]
  },
  {
   "cell_type": "code",
   "execution_count": 28,
   "metadata": {},
   "outputs": [
    {
     "name": "stdout",
     "output_type": "stream",
     "text": [
      "    visitors  orders\n",
      "0        713       1\n",
      "46     14322       1\n",
      "33     10459       1\n",
      "34     11127       1\n",
      "35     11171       1\n",
      "36     11629       1\n",
      "37     11658       1\n",
      "38     12204       1\n",
      "39     12218       1\n",
      "40     12850       1\n"
     ]
    }
   ],
   "source": [
    "# подсчитаем количество заказов по пользователям \n",
    "ordersByUsers = (\n",
    "    cumulativeData.groupby('visitors', as_index=False)\n",
    "    .agg({'orders': pd.Series.nunique})\n",
    ")\n",
    "\n",
    "ordersByUsers.columns = ['visitors', 'orders']\n",
    "print(ordersByUsers.sort_values(by='orders', ascending=False).head(10)) \n"
   ]
  },
  {
   "cell_type": "markdown",
   "metadata": {},
   "source": [
    "<b>Вывод:</b> Каждый пользователь сделал по одному заказу, вероятно, сущесвует высокая разница в стоимости заказа."
   ]
  },
  {
   "cell_type": "code",
   "execution_count": 29,
   "metadata": {},
   "outputs": [
    {
     "data": {
      "image/png": "[encoded data removed]",
      "text/plain": [
       "<Figure size 432x288 with 1 Axes>"
      ]
     },
     "metadata": {
      "needs_background": "light"
     },
     "output_type": "display_data"
    }
   ],
   "source": [
    "plt.hist(orders['revenue'], bins=100) \n",
    "#order_by_user = orders.groupby('visitorId').agg({'revenue':'sum'}).sort_values(by='revenue', ascending = False)\n",
    "#order_by_user.hist(bins=200)\n",
    "plt.title('Распределение стоимостей заказов')\n",
    "plt.xlabel(\"visitorId\")\n",
    "plt.ylabel(\"revenue\");"
   ]
  },
  {
   "cell_type": "markdown",
   "metadata": {},
   "source": [
    "<a class=\"anchor\" id=\"21-bullet\">"
   ]
  },
  {
   "cell_type": "code",
   "execution_count": 30,
   "metadata": {},
   "outputs": [
    {
     "data": {
      "image/png": "[encoded data removed]",
      "text/plain": [
       "<Figure size 432x288 with 1 Axes>"
      ]
     },
     "metadata": {
      "needs_background": "light"
     },
     "output_type": "display_data"
    }
   ],
   "source": [
    "# построим график распределения стоимостей заказов\n",
    "x_values = pd.Series(range(0,len(orders)))\n",
    "\n",
    "plt.scatter(x_values, orders['revenue'])\n",
    "plt.title('Распределение стоимостей заказов')\n",
    "plt.xlabel(\"visitorId\")\n",
    "plt.ylabel(\"revenue\");"
   ]
  },
  {
   "cell_type": "markdown",
   "metadata": {},
   "source": [
    "<b>Вывод:</b> На графиках наблюдаются несколько аномально крупных заказов"
   ]
  },
  {
   "cell_type": "code",
   "execution_count": 31,
   "metadata": {},
   "outputs": [
    {
     "name": "stdout",
     "output_type": "stream",
     "text": [
      "[18168.  28000.  58233.2]\n"
     ]
    }
   ],
   "source": [
    "# Посчитаем выборочные перцентили суммы заказов на одного пользователя:\n",
    "print(np.percentile(orders['revenue'], [90, 95, 99])) "
   ]
  },
  {
   "cell_type": "markdown",
   "metadata": {},
   "source": [
    "<b>Вывод:</b> Не более 5% заказов дороже 28000 рублей и не более 1% дороже 58233.2 рублей.\n"
   ]
  },
  {
   "cell_type": "markdown",
   "metadata": {},
   "source": [
    "### Статистическая значимость различий показателей"
   ]
  },
  {
   "cell_type": "markdown",
   "metadata": {},
   "source": [
    "В данном блоке определяем уровень статистической значимости 0.05 и будем применять статистический критерий Манна-Уитни."
   ]
  },
  {
   "cell_type": "code",
   "execution_count": 32,
   "metadata": {},
   "outputs": [
    {
     "name": "stdout",
     "output_type": "stream",
     "text": [
      "        date  ordersPerDateA  revenuePerDateA  ordersPerDateB  \\\n",
      "0 2019-08-01              24           148579              21   \n",
      "1 2019-08-02              20            93822              24   \n",
      "2 2019-08-03              24           112473              16   \n",
      "3 2019-08-04              16            70825              17   \n",
      "4 2019-08-05              25           124218              23   \n",
      "\n",
      "   revenuePerDateB  ordersCummulativeA  revenueCummulativeA  \\\n",
      "0           101217                  24               148579   \n",
      "1           165531                  44               242401   \n",
      "2           114248                  68               354874   \n",
      "3           108571                  84               425699   \n",
      "4            92428                 109               549917   \n",
      "\n",
      "   ordersCummulativeB  revenueCummulativeB  visitorsPerDateA  \\\n",
      "0                  21               101217               719   \n",
      "1                  45               266748               619   \n",
      "2                  61               380996               507   \n",
      "3                  78               489567               717   \n",
      "4                 101               581995               756   \n",
      "\n",
      "   visitorsPerDateB  visitorsCummulativeA  visitorsCummulativeB  \n",
      "0               713                   719                   713  \n",
      "1               581                  1338                  1294  \n",
      "2               509                  1845                  1803  \n",
      "3               770                  2562                  2573  \n",
      "4               707                  3318                  3280  \n"
     ]
    }
   ],
   "source": [
    "# Создадим переменные ordersByUsersA и ordersByUsersB со столбцами ['visitors', 'orders']. \n",
    "# В них для пользователей, которые заказывали хотя бы 1 раз, укажем число совершённых заказов.\n",
    "\n",
    "visitorsADaily = visitors[visitors['group'] == 'A'][['date', 'visitors']]\n",
    "visitorsADaily.columns = ['date', 'visitorsPerDateA']\n",
    "\n",
    "visitorsACummulative = visitorsADaily.apply(\n",
    "    lambda x: visitorsADaily[visitorsADaily['date'] <= x['date']].agg(\n",
    "        {'date': 'max', 'visitorsPerDateA': 'sum'}\n",
    "    ),\n",
    "    axis=1,\n",
    ")\n",
    "visitorsACummulative.columns = ['date', 'visitorsCummulativeA']\n",
    "\n",
    "visitorsBDaily = visitors[visitors['group'] == 'B'][['date', 'visitors']]\n",
    "visitorsBDaily.columns = ['date', 'visitorsPerDateB']\n",
    "\n",
    "visitorsBCummulative = visitorsBDaily.apply(\n",
    "    lambda x: visitorsBDaily[visitorsBDaily['date'] <= x['date']].agg(\n",
    "        {'date': 'max', 'visitorsPerDateB': 'sum'}\n",
    "    ),\n",
    "    axis=1,\n",
    ")\n",
    "visitorsBCummulative.columns = ['date', 'visitorsCummulativeB']\n",
    "\n",
    "ordersADaily = (\n",
    "    orders[orders['group'] == 'A'][['date', 'transactionId', 'visitorId', 'revenue']]\n",
    "    .groupby('date', as_index=False)\n",
    "    .agg({'transactionId': pd.Series.nunique, 'revenue': 'sum'})\n",
    ")\n",
    "ordersADaily.columns = ['date', 'ordersPerDateA', 'revenuePerDateA']\n",
    "\n",
    "ordersACummulative = ordersADaily.apply(\n",
    "    lambda x: ordersADaily[ordersADaily['date'] <= x['date']].agg(\n",
    "        {'date': 'max', 'ordersPerDateA': 'sum', 'revenuePerDateA': 'sum'}\n",
    "    ),\n",
    "    axis=1,\n",
    ").sort_values(by=['date'])\n",
    "ordersACummulative.columns = [\n",
    "    'date',\n",
    "    'ordersCummulativeA',\n",
    "    'revenueCummulativeA',\n",
    "]\n",
    "\n",
    "ordersBDaily = (\n",
    "    orders[orders['group'] == 'B'][['date', 'transactionId', 'visitorId', 'revenue']]\n",
    "    .groupby('date', as_index=False)\n",
    "    .agg({'transactionId': pd.Series.nunique, 'revenue': 'sum'})\n",
    ")\n",
    "ordersBDaily.columns = ['date', 'ordersPerDateB', 'revenuePerDateB']\n",
    "\n",
    "ordersBCummulative = ordersBDaily.apply(\n",
    "    lambda x: ordersBDaily[ordersBDaily['date'] <= x['date']].agg(\n",
    "        {'date': 'max', 'ordersPerDateB': 'sum', 'revenuePerDateB': 'sum'}\n",
    "    ),\n",
    "    axis=1,\n",
    ").sort_values(by=['date'])\n",
    "ordersBCummulative.columns = [\n",
    "    'date',\n",
    "    'ordersCummulativeB',\n",
    "    'revenueCummulativeB',\n",
    "]\n",
    "\n",
    "data = (\n",
    "    ordersADaily.merge(\n",
    "        ordersBDaily, left_on='date', right_on='date', how='left'\n",
    "    )\n",
    "    .merge(ordersACummulative, left_on='date', right_on='date', how='left')\n",
    "    .merge(ordersBCummulative, left_on='date', right_on='date', how='left')\n",
    "    .merge(visitorsADaily, left_on='date', right_on='date', how='left')\n",
    "    .merge(visitorsBDaily, left_on='date', right_on='date', how='left')\n",
    "    .merge(visitorsACummulative, left_on='date', right_on='date', how='left')\n",
    "    .merge(visitorsBCummulative, left_on='date', right_on='date', how='left')\n",
    ")\n",
    "\n",
    "print(data.head(5)) \n"
   ]
  },
  {
   "cell_type": "code",
   "execution_count": 33,
   "metadata": {},
   "outputs": [],
   "source": [
    "# группируем заказы по группам\n",
    "ordersByUsersA = (\n",
    "    cumulativeData[cumulativeData['group'] == 'A']\n",
    "    .groupby('visitors', as_index=False)\n",
    "    .agg({'orders': pd.Series.nunique})\n",
    ")\n",
    "ordersByUsersA.columns = ['userId', 'orders']\n",
    "\n",
    "ordersByUsersB = (\n",
    "    cumulativeData[cumulativeData['group'] == 'B']\n",
    "    .groupby('visitors', as_index=False)\n",
    "    .agg({'orders': pd.Series.nunique})\n",
    ")\n",
    "ordersByUsersB.columns = ['userId', 'orders'] \n"
   ]
  },
  {
   "cell_type": "code",
   "execution_count": 34,
   "metadata": {},
   "outputs": [],
   "source": [
    "# Объявим переменные sampleA и sampleB, в которых пользователям из разных групп будет соответствовать количество заказов. \n",
    "# Тем, кто ничего не заказал, будут соответствовать нули. \n",
    "# Это нужно, чтобы подготовить выборки к проверке критерием Манна-Уитни.\n",
    "sampleA = pd.concat([ordersByUsersA['orders'],pd.Series(0, index=np.arange(data['visitorsPerDateA'].sum() - len(ordersByUsersA['orders'])), name='orders')],axis=0)\n",
    "\n",
    "sampleB = pd.concat([ordersByUsersB['orders'],pd.Series(0, index=np.arange(data['visitorsPerDateB'].sum() - len(ordersByUsersB['orders'])), name='orders')],axis=0) \n"
   ]
  },
  {
   "cell_type": "markdown",
   "metadata": {},
   "source": [
    "<br><b>Гипотезы</b>\n",
    "<br>H0 - статистически значимых различий в конверсии между группами нет\n",
    "<br>H1 - статистически значимые различия в конверсии между группами есть"
   ]
  },
  {
   "cell_type": "code",
   "execution_count": 35,
   "metadata": {},
   "outputs": [
    {
     "name": "stdout",
     "output_type": "stream",
     "text": [
      "0.017\n",
      "0.138\n"
     ]
    }
   ],
   "source": [
    "# Выведем относительный прирост конверсии группы B: конверсия группы B / конверсия группы A - 1. \n",
    "# Округлим до трёх знаков после запятой.\n",
    "\n",
    "ordersByUsersA = (\n",
    "    orders[orders['group'] == 'A']\n",
    "    .groupby('visitorId', as_index=False)\n",
    "    .agg({'transactionId': pd.Series.nunique})\n",
    ")\n",
    "ordersByUsersA.columns = ['userId', 'orders']\n",
    "\n",
    "ordersByUsersB = (\n",
    "    orders[orders['group'] == 'B']\n",
    "    .groupby('visitorId', as_index=False)\n",
    "    .agg({'transactionId': pd.Series.nunique})\n",
    ")\n",
    "ordersByUsersB.columns = ['userId', 'orders']\n",
    "\n",
    "sampleA = pd.concat(\n",
    "    [\n",
    "        ordersByUsersA['orders'],\n",
    "        pd.Series(\n",
    "            0,\n",
    "            index=np.arange(\n",
    "                data['visitorsPerDateA'].sum() - len(ordersByUsersA['orders'])\n",
    "            ),\n",
    "            name='orders',\n",
    "        ),\n",
    "    ],\n",
    "    axis=0,\n",
    ")\n",
    "\n",
    "sampleB = pd.concat(\n",
    "    [\n",
    "        ordersByUsersB['orders'],\n",
    "        pd.Series(\n",
    "            0,\n",
    "            index=np.arange(\n",
    "                data['visitorsPerDateB'].sum() - len(ordersByUsersB['orders'])\n",
    "            ),\n",
    "            name='orders',\n",
    "        ),\n",
    "    ],\n",
    "    axis=0,\n",
    ")\n",
    "\n",
    "print(\"{0:.3f}\".format(stats.mannwhitneyu(sampleA, sampleB)[1]))\n",
    "\n",
    "print(\"{0:.3f}\".format(sampleB.mean() / sampleA.mean() - 1))\n",
    " "
   ]
  },
  {
   "cell_type": "markdown",
   "metadata": {},
   "source": [
    "<b>Вывод:</b> По «сырым» данным различий в конверсии групп A и B есть.\n",
    "Первое число — p-value = 0.017 меньше 0.05. Значит, нулевую гипотезу о том, что статистически значимых различий в конверсии между группами нет, отвергаем. При этом  проигрыш группы B равен 13.8% — второе число в выводе.\n"
   ]
  },
  {
   "cell_type": "markdown",
   "metadata": {},
   "source": [
    "<br><b>Гипотезы</b>\n",
    "<br>H0 - статистически значимых различий в среднем чеке между сегментами нет\n",
    "<br>H1 - статистически значимые различия в среднем чеке между сегментами есть"
   ]
  },
  {
   "cell_type": "code",
   "execution_count": 36,
   "metadata": {},
   "outputs": [
    {
     "name": "stdout",
     "output_type": "stream",
     "text": [
      "0.729\n",
      "0.259\n"
     ]
    }
   ],
   "source": [
    "#Чтобы рассчитать статистическую значимость различий в среднем чеке между сегментами, передадим критерию mannwhitneyu() данные о выручке с заказов.\n",
    "#А ещё найдём относительные различия в среднем чеке между группами:\n",
    "\n",
    "print('{0:.3f}'.format(stats.mannwhitneyu(orders[orders['group']=='A']['revenue'], orders[orders['group']=='B']['revenue'])[1]))\n",
    "print('{0:.3f}'.format(orders[orders['group']=='B']['revenue'].mean()/orders[orders['group']=='A']['revenue'].mean()-1)) \n"
   ]
  },
  {
   "cell_type": "markdown",
   "metadata": {},
   "source": [
    "<b>Вывод:</b> P-value значительно больше 0.05. Значит, причин отвергать нулевую гипотезу и считать, что в среднем чеке есть различия, нет. Впрочем, средний чек группы B значительно ниже среднего чека группы A.\n"
   ]
  },
  {
   "cell_type": "code",
   "execution_count": 37,
   "metadata": {},
   "outputs": [
    {
     "name": "stdout",
     "output_type": "stream",
     "text": [
      "568     113298937\n",
      "1099    148427295\n",
      "461     154576532\n",
      "928     204675465\n",
      "684     358944393\n",
      "dtype: int64\n",
      "(86,)\n"
     ]
    }
   ],
   "source": [
    "# Узнаем, сколько всего аномальных пользователей\n",
    "usersWithManyOrders = pd.concat(\n",
    "    [\n",
    "        ordersByUsersA[ordersByUsersA['orders'] > 4]['userId'],\n",
    "        ordersByUsersB[ordersByUsersB['orders'] > 4]['userId'],\n",
    "    ],\n",
    "    axis=0,\n",
    ")\n",
    "usersWithExpensiveOrders = orders[orders['revenue'] > 20000]['visitorId']\n",
    "abnormalUsers = (\n",
    "    pd.concat([usersWithManyOrders, usersWithExpensiveOrders], axis=0)\n",
    "    .drop_duplicates()\n",
    "    .sort_values()\n",
    ")\n",
    "print(abnormalUsers.head(5))\n",
    "print(abnormalUsers.shape) \n"
   ]
  },
  {
   "cell_type": "code",
   "execution_count": 38,
   "metadata": {},
   "outputs": [
    {
     "name": "stdout",
     "output_type": "stream",
     "text": [
      "0.023\n",
      "0.149\n"
     ]
    }
   ],
   "source": [
    "#  проверим произошло ли что-нибудь с результатами по среднему чеку\n",
    "\n",
    "sampleAFiltered = pd.concat(\n",
    "    [\n",
    "        ordersByUsersA[\n",
    "            np.logical_not(ordersByUsersA['userId'].isin(abnormalUsers))\n",
    "        ]['orders'],\n",
    "        pd.Series(\n",
    "            0,\n",
    "            index=np.arange(\n",
    "                data['visitorsPerDateA'].sum() - len(ordersByUsersA['orders'])\n",
    "            ),\n",
    "            name='orders',\n",
    "        ),\n",
    "    ],\n",
    "    axis=0,\n",
    ")\n",
    "\n",
    "sampleBFiltered = pd.concat(\n",
    "    [\n",
    "        ordersByUsersB[\n",
    "            np.logical_not(ordersByUsersB['userId'].isin(abnormalUsers))\n",
    "        ]['orders'],\n",
    "        pd.Series(\n",
    "            0,\n",
    "            index=np.arange(\n",
    "                data['visitorsPerDateB'].sum() - len(ordersByUsersB['orders'])\n",
    "            ),\n",
    "            name='orders',\n",
    "        ),\n",
    "    ],\n",
    "    axis=0,\n",
    ") \n",
    "# Применим статистический критерий Манна-Уитни к полученным выборкам:\n",
    "\n",
    "print('{0:.3f}'.format(stats.mannwhitneyu(sampleAFiltered, sampleBFiltered)[1]))\n",
    "print('{0:.3f}'.format(sampleBFiltered.mean()/sampleAFiltered.mean()-1)) \n"
   ]
  },
  {
   "cell_type": "markdown",
   "metadata": {},
   "source": [
    "<b>Вывод:</b> Результаты по конверсии практически не изменились"
   ]
  },
  {
   "cell_type": "code",
   "execution_count": 39,
   "metadata": {},
   "outputs": [
    {
     "name": "stdout",
     "output_type": "stream",
     "text": [
      "0.866\n",
      "-0.002\n"
     ]
    }
   ],
   "source": [
    "print(\n",
    "    '{0:.3f}'.format(\n",
    "        stats.mannwhitneyu(\n",
    "            orders[\n",
    "                np.logical_and(\n",
    "                    orders['group'] == 'A',\n",
    "                    np.logical_not(orders['visitorId'].isin(abnormalUsers)),\n",
    "                )\n",
    "            ]['revenue'],\n",
    "            orders[\n",
    "                np.logical_and(\n",
    "                    orders['group'] == 'B',\n",
    "                    np.logical_not(orders['visitorId'].isin(abnormalUsers)),\n",
    "                )\n",
    "            ]['revenue'],\n",
    "        )[1]\n",
    "    )\n",
    ")\n",
    "\n",
    "print(\n",
    "    \"{0:.3f}\".format(\n",
    "        orders[\n",
    "            np.logical_and(\n",
    "                orders['group'] == 'B',\n",
    "                np.logical_not(orders['visitorId'].isin(abnormalUsers)),\n",
    "            )\n",
    "        ]['revenue'].mean()\n",
    "        / orders[\n",
    "            np.logical_and(\n",
    "                orders['group'] == 'A',\n",
    "                np.logical_not(orders['visitorId'].isin(abnormalUsers)),\n",
    "            )\n",
    "        ]['revenue'].mean()\n",
    "        - 1\n",
    "    )\n",
    ") \n"
   ]
  },
  {
   "cell_type": "markdown",
   "metadata": {},
   "source": [
    "<b>Вывод:</b> P-value увеличился, но и разница между сегментами сократилась с 25,9% до -0.2%.\n",
    "Хотя общие выводы по результатам теста не изменились, такой пример хорошо показывает, как сильно аномалии могут влиять на результаты A/B-теста!\n"
   ]
  },
  {
   "cell_type": "markdown",
   "metadata": {},
   "source": [
    "## Общий вывод"
   ]
  },
  {
   "cell_type": "markdown",
   "metadata": {},
   "source": [
    "<br>Какие выводы по тесту можем сделать?\n",
    "<br>Имеющиеся факты:\n",
    "<br>·\tИмеются статистически значимые различия по конверсии между группами и по «сырым», и по данным после фильтрации аномалий;\n",
    "<br>·\tНет статистически значимого различия по среднему чеку между группами ни по «сырым», ни по данным после фильтрации аномалий;\n",
    "<br>·\tГрафик различия конверсии между группами сообщает, что результаты группы А хуже группы В и нет значительной тенденции к улучшению:\n",
    "<br>·\tГрафик различия среднего чека говорит о том, что результаты группы А не улучшаются день ото дня и сейчас почти на 15% хуже:\n",
    "\n",
    "<br>Исходя из обнаруженных фактов, тест следует остановить и признать успешным, в данном экперименте сегмет В является лучше А по конверсии, увеличение которой являлось одной из поставленных задач.\n"
   ]
  }
 ],
 "metadata": {
  "ExecuteTimeLog": [
   {
    "duration": 408,
    "start_time": "2022-03-23T12:28:13.968Z"
   },
   {
    "duration": 99,
    "start_time": "2022-03-23T12:28:32.690Z"
   },
   {
    "duration": 11,
    "start_time": "2022-03-23T12:28:38.188Z"
   },
   {
    "duration": 14,
    "start_time": "2022-03-23T12:28:44.000Z"
   },
   {
    "duration": 14,
    "start_time": "2022-03-23T12:29:18.621Z"
   },
   {
    "duration": 8,
    "start_time": "2022-03-23T12:29:19.168Z"
   },
   {
    "duration": 41,
    "start_time": "2022-03-23T12:29:50.125Z"
   },
   {
    "duration": 13,
    "start_time": "2022-03-23T12:29:53.740Z"
   },
   {
    "duration": 16,
    "start_time": "2022-03-23T12:30:35.568Z"
   },
   {
    "duration": 22,
    "start_time": "2022-03-23T12:31:17.328Z"
   },
   {
    "duration": 47,
    "start_time": "2022-03-23T12:31:22.680Z"
   },
   {
    "duration": 9,
    "start_time": "2022-03-23T12:31:23.560Z"
   },
   {
    "duration": 26,
    "start_time": "2022-03-23T12:31:24.727Z"
   },
   {
    "duration": 8,
    "start_time": "2022-03-23T12:33:44.291Z"
   },
   {
    "duration": 3,
    "start_time": "2022-03-23T12:34:25.572Z"
   },
   {
    "duration": 8,
    "start_time": "2022-03-23T12:34:29.711Z"
   },
   {
    "duration": 1189,
    "start_time": "2022-03-26T17:00:18.711Z"
   },
   {
    "duration": 62,
    "start_time": "2022-03-26T17:06:48.733Z"
   },
   {
    "duration": 11,
    "start_time": "2022-03-26T17:06:54.641Z"
   },
   {
    "duration": 14,
    "start_time": "2022-03-26T17:07:12.831Z"
   },
   {
    "duration": 14,
    "start_time": "2022-03-26T17:07:36.361Z"
   },
   {
    "duration": 3,
    "start_time": "2022-03-26T17:08:51.719Z"
   },
   {
    "duration": 5,
    "start_time": "2022-03-26T17:08:57.627Z"
   },
   {
    "duration": 2544,
    "start_time": "2022-03-26T17:13:14.407Z"
   },
   {
    "duration": 2692,
    "start_time": "2022-03-26T17:13:28.481Z"
   },
   {
    "duration": 9,
    "start_time": "2022-03-26T17:13:34.375Z"
   },
   {
    "duration": 9,
    "start_time": "2022-03-26T17:14:42.509Z"
   },
   {
    "duration": 8,
    "start_time": "2022-03-26T17:15:31.580Z"
   },
   {
    "duration": 9,
    "start_time": "2022-03-26T17:16:19.858Z"
   },
   {
    "duration": 11,
    "start_time": "2022-03-26T17:18:54.259Z"
   },
   {
    "duration": 14,
    "start_time": "2022-03-26T17:31:57.641Z"
   },
   {
    "duration": 12,
    "start_time": "2022-03-26T17:32:15.926Z"
   },
   {
    "duration": 18,
    "start_time": "2022-03-26T17:33:37.562Z"
   },
   {
    "duration": 159,
    "start_time": "2022-03-26T17:34:00.572Z"
   },
   {
    "duration": 629,
    "start_time": "2022-03-26T17:34:12.855Z"
   },
   {
    "duration": 165,
    "start_time": "2022-03-26T17:34:27.611Z"
   },
   {
    "duration": 786,
    "start_time": "2022-03-26T17:34:35.902Z"
   },
   {
    "duration": 4,
    "start_time": "2022-03-26T17:34:58.571Z"
   },
   {
    "duration": 4382,
    "start_time": "2022-03-26T17:35:05.812Z"
   },
   {
    "duration": 1242,
    "start_time": "2022-03-26T17:35:20.031Z"
   },
   {
    "duration": 1186,
    "start_time": "2022-03-26T17:35:50.095Z"
   },
   {
    "duration": 62,
    "start_time": "2022-03-26T17:36:19.233Z"
   },
   {
    "duration": 16,
    "start_time": "2022-03-26T17:36:22.658Z"
   },
   {
    "duration": 2,
    "start_time": "2022-03-26T17:36:23.658Z"
   },
   {
    "duration": 3,
    "start_time": "2022-03-26T17:36:23.849Z"
   },
   {
    "duration": 10,
    "start_time": "2022-03-26T17:36:24.310Z"
   },
   {
    "duration": 13,
    "start_time": "2022-03-26T17:36:24.498Z"
   },
   {
    "duration": 13,
    "start_time": "2022-03-26T17:36:25.108Z"
   },
   {
    "duration": 16,
    "start_time": "2022-03-26T17:36:25.280Z"
   },
   {
    "duration": 13,
    "start_time": "2022-03-26T17:36:25.481Z"
   },
   {
    "duration": 990,
    "start_time": "2022-03-26T17:36:25.699Z"
   },
   {
    "duration": 3,
    "start_time": "2022-03-26T17:36:50.314Z"
   },
   {
    "duration": 737,
    "start_time": "2022-03-26T17:36:57.394Z"
   },
   {
    "duration": 676,
    "start_time": "2022-03-26T17:37:29.563Z"
   },
   {
    "duration": 656,
    "start_time": "2022-03-26T17:39:17.134Z"
   },
   {
    "duration": 661,
    "start_time": "2022-03-26T17:39:26.725Z"
   },
   {
    "duration": 10,
    "start_time": "2022-03-26T17:41:28.094Z"
   },
   {
    "duration": 10,
    "start_time": "2022-03-26T17:41:47.848Z"
   },
   {
    "duration": 10,
    "start_time": "2022-03-26T17:41:59.182Z"
   },
   {
    "duration": 5,
    "start_time": "2022-03-26T17:42:33.429Z"
   },
   {
    "duration": 11,
    "start_time": "2022-03-26T17:42:38.228Z"
   },
   {
    "duration": 22,
    "start_time": "2022-03-26T17:54:35.387Z"
   },
   {
    "duration": 145,
    "start_time": "2022-03-26T17:55:27.873Z"
   },
   {
    "duration": 149,
    "start_time": "2022-03-26T17:55:37.740Z"
   },
   {
    "duration": 102,
    "start_time": "2022-03-26T17:57:42.266Z"
   },
   {
    "duration": 112,
    "start_time": "2022-03-26T17:57:51.799Z"
   },
   {
    "duration": 23,
    "start_time": "2022-03-26T17:58:44.986Z"
   },
   {
    "duration": 250,
    "start_time": "2022-03-26T17:59:22.318Z"
   },
   {
    "duration": 7,
    "start_time": "2022-03-26T18:00:03.335Z"
   },
   {
    "duration": 213,
    "start_time": "2022-03-26T18:00:57.492Z"
   },
   {
    "duration": 140,
    "start_time": "2022-03-26T18:02:13.325Z"
   },
   {
    "duration": 154,
    "start_time": "2022-03-26T18:02:20.968Z"
   },
   {
    "duration": 145,
    "start_time": "2022-03-26T18:02:25.011Z"
   },
   {
    "duration": 288,
    "start_time": "2022-03-26T18:03:53.412Z"
   },
   {
    "duration": 150,
    "start_time": "2022-03-26T18:04:41.239Z"
   },
   {
    "duration": 163,
    "start_time": "2022-03-26T18:05:12.509Z"
   },
   {
    "duration": 150,
    "start_time": "2022-03-26T18:05:21.190Z"
   },
   {
    "duration": 324,
    "start_time": "2022-03-26T18:05:56.263Z"
   },
   {
    "duration": 1371,
    "start_time": "2022-03-26T18:52:32.920Z"
   },
   {
    "duration": 72,
    "start_time": "2022-03-26T18:52:34.293Z"
   },
   {
    "duration": 17,
    "start_time": "2022-03-26T18:52:34.367Z"
   },
   {
    "duration": 2,
    "start_time": "2022-03-26T18:52:34.386Z"
   },
   {
    "duration": 4,
    "start_time": "2022-03-26T18:52:34.391Z"
   },
   {
    "duration": 15,
    "start_time": "2022-03-26T18:52:34.397Z"
   },
   {
    "duration": 11,
    "start_time": "2022-03-26T18:52:34.414Z"
   },
   {
    "duration": 17,
    "start_time": "2022-03-26T18:52:34.427Z"
   },
   {
    "duration": 39,
    "start_time": "2022-03-26T18:52:34.446Z"
   },
   {
    "duration": 13,
    "start_time": "2022-03-26T18:52:34.487Z"
   },
   {
    "duration": 10,
    "start_time": "2022-03-26T18:52:34.502Z"
   },
   {
    "duration": 14,
    "start_time": "2022-03-26T18:52:34.514Z"
   },
   {
    "duration": 178,
    "start_time": "2022-03-26T18:52:34.529Z"
   },
   {
    "duration": 132,
    "start_time": "2022-03-26T18:52:34.709Z"
   },
   {
    "duration": 260,
    "start_time": "2022-03-26T18:52:34.843Z"
   },
   {
    "duration": 229,
    "start_time": "2022-03-26T18:52:35.105Z"
   },
   {
    "duration": 147,
    "start_time": "2022-03-26T18:52:35.336Z"
   },
   {
    "duration": 271,
    "start_time": "2022-03-26T18:52:35.484Z"
   },
   {
    "duration": 176,
    "start_time": "2022-03-26T18:52:35.756Z"
   },
   {
    "duration": 368,
    "start_time": "2022-03-26T18:52:35.934Z"
   },
   {
    "duration": 146,
    "start_time": "2022-03-26T18:52:36.303Z"
   },
   {
    "duration": 114,
    "start_time": "2022-03-26T18:53:02.873Z"
   },
   {
    "duration": 2488,
    "start_time": "2022-03-26T18:53:54.266Z"
   },
   {
    "duration": 139,
    "start_time": "2022-03-26T18:54:34.231Z"
   },
   {
    "duration": 140,
    "start_time": "2022-03-26T18:54:47.427Z"
   },
   {
    "duration": 4,
    "start_time": "2022-03-26T18:56:11.465Z"
   },
   {
    "duration": 4,
    "start_time": "2022-03-26T18:56:57.264Z"
   },
   {
    "duration": 16,
    "start_time": "2022-03-26T18:58:54.536Z"
   },
   {
    "duration": 13,
    "start_time": "2022-03-26T19:00:08.449Z"
   },
   {
    "duration": 19,
    "start_time": "2022-03-26T19:00:41.610Z"
   },
   {
    "duration": 26,
    "start_time": "2022-03-26T19:00:46.391Z"
   },
   {
    "duration": 23,
    "start_time": "2022-03-26T19:02:05.259Z"
   },
   {
    "duration": 154,
    "start_time": "2022-03-26T19:02:52.991Z"
   },
   {
    "duration": 92,
    "start_time": "2022-03-26T19:03:16.449Z"
   },
   {
    "duration": 99,
    "start_time": "2022-03-26T19:03:38.928Z"
   },
   {
    "duration": 97,
    "start_time": "2022-03-26T19:04:22.678Z"
   },
   {
    "duration": 4,
    "start_time": "2022-03-26T19:04:42.585Z"
   },
   {
    "duration": 12,
    "start_time": "2022-03-26T19:10:24.414Z"
   },
   {
    "duration": 21,
    "start_time": "2022-03-26T19:11:24.341Z"
   },
   {
    "duration": 27,
    "start_time": "2022-03-26T19:11:42.038Z"
   },
   {
    "duration": 13,
    "start_time": "2022-03-26T19:13:53.150Z"
   },
   {
    "duration": 2574,
    "start_time": "2022-03-26T19:14:16.068Z"
   },
   {
    "duration": 103,
    "start_time": "2022-03-26T19:18:12.585Z"
   },
   {
    "duration": 7,
    "start_time": "2022-03-26T19:18:31.180Z"
   },
   {
    "duration": 11,
    "start_time": "2022-03-26T19:18:35.337Z"
   },
   {
    "duration": 109,
    "start_time": "2022-03-26T19:19:04.373Z"
   },
   {
    "duration": 96,
    "start_time": "2022-03-26T19:19:23.119Z"
   },
   {
    "duration": 185,
    "start_time": "2022-03-26T19:19:55.909Z"
   },
   {
    "duration": 260,
    "start_time": "2022-03-26T19:20:25.669Z"
   },
   {
    "duration": 35,
    "start_time": "2022-03-26T19:20:31.208Z"
   },
   {
    "duration": 2675,
    "start_time": "2022-03-26T19:20:39.511Z"
   },
   {
    "duration": 7,
    "start_time": "2022-03-26T19:21:36.044Z"
   },
   {
    "duration": 14,
    "start_time": "2022-03-26T19:22:21.203Z"
   },
   {
    "duration": 14,
    "start_time": "2022-03-26T19:22:37.975Z"
   },
   {
    "duration": 13,
    "start_time": "2022-03-26T19:23:08.046Z"
   },
   {
    "duration": 14,
    "start_time": "2022-03-26T19:23:38.794Z"
   },
   {
    "duration": 4,
    "start_time": "2022-03-26T19:24:18.228Z"
   },
   {
    "duration": 188,
    "start_time": "2022-03-26T19:24:38.460Z"
   },
   {
    "duration": 3,
    "start_time": "2022-03-26T19:25:25.653Z"
   },
   {
    "duration": 1069,
    "start_time": "2022-03-26T19:25:31.174Z"
   },
   {
    "duration": 63,
    "start_time": "2022-03-26T19:25:32.245Z"
   },
   {
    "duration": 21,
    "start_time": "2022-03-26T19:25:32.310Z"
   },
   {
    "duration": 3,
    "start_time": "2022-03-26T19:25:32.333Z"
   },
   {
    "duration": 6,
    "start_time": "2022-03-26T19:25:32.337Z"
   },
   {
    "duration": 19,
    "start_time": "2022-03-26T19:25:32.345Z"
   },
   {
    "duration": 11,
    "start_time": "2022-03-26T19:25:32.365Z"
   },
   {
    "duration": 15,
    "start_time": "2022-03-26T19:25:32.377Z"
   },
   {
    "duration": 18,
    "start_time": "2022-03-26T19:25:32.393Z"
   },
   {
    "duration": 16,
    "start_time": "2022-03-26T19:25:32.413Z"
   },
   {
    "duration": 12,
    "start_time": "2022-03-26T19:25:32.430Z"
   },
   {
    "duration": 38,
    "start_time": "2022-03-26T19:25:32.443Z"
   },
   {
    "duration": 161,
    "start_time": "2022-03-26T19:25:32.482Z"
   },
   {
    "duration": 124,
    "start_time": "2022-03-26T19:25:32.645Z"
   },
   {
    "duration": 255,
    "start_time": "2022-03-26T19:25:32.770Z"
   },
   {
    "duration": 226,
    "start_time": "2022-03-26T19:25:33.026Z"
   },
   {
    "duration": 152,
    "start_time": "2022-03-26T19:25:33.253Z"
   },
   {
    "duration": 245,
    "start_time": "2022-03-26T19:25:33.406Z"
   },
   {
    "duration": 169,
    "start_time": "2022-03-26T19:25:33.653Z"
   },
   {
    "duration": 249,
    "start_time": "2022-03-26T19:25:33.824Z"
   },
   {
    "duration": 116,
    "start_time": "2022-03-26T19:25:34.074Z"
   },
   {
    "duration": 3,
    "start_time": "2022-03-26T19:25:34.192Z"
   },
   {
    "duration": 21,
    "start_time": "2022-03-26T19:25:34.196Z"
   },
   {
    "duration": 20,
    "start_time": "2022-03-26T19:25:34.218Z"
   },
   {
    "duration": 110,
    "start_time": "2022-03-26T19:25:34.239Z"
   },
   {
    "duration": 98,
    "start_time": "2022-03-26T19:25:34.351Z"
   },
   {
    "duration": 4,
    "start_time": "2022-03-26T19:25:34.450Z"
   },
   {
    "duration": 26,
    "start_time": "2022-03-26T19:25:34.458Z"
   },
   {
    "duration": 266,
    "start_time": "2022-03-26T19:25:34.486Z"
   },
   {
    "duration": 40,
    "start_time": "2022-03-26T19:25:34.754Z"
   },
   {
    "duration": 8,
    "start_time": "2022-03-26T19:25:34.796Z"
   },
   {
    "duration": 26,
    "start_time": "2022-03-26T19:25:34.805Z"
   },
   {
    "duration": 139,
    "start_time": "2022-03-26T19:25:34.833Z"
   },
   {
    "duration": 10,
    "start_time": "2022-03-26T19:26:56.682Z"
   },
   {
    "duration": 2555,
    "start_time": "2022-03-26T19:29:12.854Z"
   },
   {
    "duration": 18,
    "start_time": "2022-03-26T19:30:07.744Z"
   },
   {
    "duration": 8,
    "start_time": "2022-03-26T19:30:21.974Z"
   },
   {
    "duration": 26,
    "start_time": "2022-03-26T19:31:28.314Z"
   },
   {
    "duration": 2470,
    "start_time": "2022-03-26T19:32:09.826Z"
   },
   {
    "duration": 2621,
    "start_time": "2022-03-26T19:32:31.634Z"
   },
   {
    "duration": 13,
    "start_time": "2022-03-26T19:32:48.513Z"
   },
   {
    "duration": 213,
    "start_time": "2022-03-26T19:38:31.097Z"
   },
   {
    "duration": 142,
    "start_time": "2022-03-26T19:38:55.419Z"
   },
   {
    "duration": 249,
    "start_time": "2022-03-26T19:39:28.984Z"
   },
   {
    "duration": 163,
    "start_time": "2022-03-26T19:40:03.520Z"
   },
   {
    "duration": 295,
    "start_time": "2022-03-26T19:40:39.549Z"
   },
   {
    "duration": 110,
    "start_time": "2022-03-26T19:41:08.389Z"
   },
   {
    "duration": 146,
    "start_time": "2022-03-26T19:43:28.194Z"
   },
   {
    "duration": 143,
    "start_time": "2022-03-26T19:43:39.049Z"
   },
   {
    "duration": 9,
    "start_time": "2022-03-26T19:52:59.125Z"
   },
   {
    "duration": 8,
    "start_time": "2022-03-26T19:53:51.571Z"
   },
   {
    "duration": 9,
    "start_time": "2022-03-26T19:54:42.772Z"
   },
   {
    "duration": 9,
    "start_time": "2022-03-26T19:54:51.501Z"
   },
   {
    "duration": 9,
    "start_time": "2022-03-26T19:54:57.055Z"
   },
   {
    "duration": 1408,
    "start_time": "2022-03-26T19:55:04.789Z"
   },
   {
    "duration": 64,
    "start_time": "2022-03-26T19:55:06.199Z"
   },
   {
    "duration": 22,
    "start_time": "2022-03-26T19:55:06.265Z"
   },
   {
    "duration": 3,
    "start_time": "2022-03-26T19:55:06.289Z"
   },
   {
    "duration": 5,
    "start_time": "2022-03-26T19:55:06.294Z"
   },
   {
    "duration": 14,
    "start_time": "2022-03-26T19:55:06.301Z"
   },
   {
    "duration": 14,
    "start_time": "2022-03-26T19:55:06.317Z"
   },
   {
    "duration": 22,
    "start_time": "2022-03-26T19:55:06.333Z"
   },
   {
    "duration": 47,
    "start_time": "2022-03-26T19:55:06.356Z"
   },
   {
    "duration": 15,
    "start_time": "2022-03-26T19:55:06.406Z"
   },
   {
    "duration": 14,
    "start_time": "2022-03-26T19:55:06.422Z"
   },
   {
    "duration": 12,
    "start_time": "2022-03-26T19:55:06.438Z"
   },
   {
    "duration": 187,
    "start_time": "2022-03-26T19:55:06.451Z"
   },
   {
    "duration": 124,
    "start_time": "2022-03-26T19:55:06.640Z"
   },
   {
    "duration": 277,
    "start_time": "2022-03-26T19:55:06.766Z"
   },
   {
    "duration": 9,
    "start_time": "2022-03-26T19:55:07.045Z"
   },
   {
    "duration": 247,
    "start_time": "2022-03-26T19:55:07.056Z"
   },
   {
    "duration": 170,
    "start_time": "2022-03-26T19:55:07.304Z"
   },
   {
    "duration": 292,
    "start_time": "2022-03-26T19:55:07.475Z"
   },
   {
    "duration": 174,
    "start_time": "2022-03-26T19:55:07.769Z"
   },
   {
    "duration": 314,
    "start_time": "2022-03-26T19:55:07.944Z"
   },
   {
    "duration": 140,
    "start_time": "2022-03-26T19:55:08.260Z"
   },
   {
    "duration": 4,
    "start_time": "2022-03-26T19:55:08.401Z"
   },
   {
    "duration": 33,
    "start_time": "2022-03-26T19:55:08.406Z"
   },
   {
    "duration": 108,
    "start_time": "2022-03-26T19:55:08.441Z"
   },
   {
    "duration": 108,
    "start_time": "2022-03-26T19:55:08.551Z"
   },
   {
    "duration": 3,
    "start_time": "2022-03-26T19:55:08.661Z"
   },
   {
    "duration": 276,
    "start_time": "2022-03-26T19:55:08.667Z"
   },
   {
    "duration": 17,
    "start_time": "2022-03-26T19:55:08.945Z"
   },
   {
    "duration": 21,
    "start_time": "2022-03-26T19:55:08.963Z"
   },
   {
    "duration": 230,
    "start_time": "2022-03-26T19:55:08.986Z"
   },
   {
    "duration": 11,
    "start_time": "2022-03-26T19:55:09.218Z"
   },
   {
    "duration": 10,
    "start_time": "2022-03-26T19:55:09.230Z"
   },
   {
    "duration": 47,
    "start_time": "2022-03-26T19:55:09.242Z"
   },
   {
    "duration": 12,
    "start_time": "2022-03-26T19:55:09.290Z"
   },
   {
    "duration": 1140,
    "start_time": "2022-03-28T04:32:53.245Z"
   },
   {
    "duration": 42,
    "start_time": "2022-03-28T04:32:54.387Z"
   },
   {
    "duration": 18,
    "start_time": "2022-03-28T04:32:54.430Z"
   },
   {
    "duration": 3,
    "start_time": "2022-03-28T04:32:54.450Z"
   },
   {
    "duration": 6,
    "start_time": "2022-03-28T04:32:54.454Z"
   },
   {
    "duration": 12,
    "start_time": "2022-03-28T04:32:54.462Z"
   },
   {
    "duration": 10,
    "start_time": "2022-03-28T04:32:54.476Z"
   },
   {
    "duration": 14,
    "start_time": "2022-03-28T04:32:54.488Z"
   },
   {
    "duration": 41,
    "start_time": "2022-03-28T04:32:54.504Z"
   },
   {
    "duration": 13,
    "start_time": "2022-03-28T04:32:54.548Z"
   },
   {
    "duration": 12,
    "start_time": "2022-03-28T04:32:54.563Z"
   },
   {
    "duration": 11,
    "start_time": "2022-03-28T04:32:54.577Z"
   },
   {
    "duration": 191,
    "start_time": "2022-03-28T04:32:54.590Z"
   },
   {
    "duration": 127,
    "start_time": "2022-03-28T04:32:54.783Z"
   },
   {
    "duration": 272,
    "start_time": "2022-03-28T04:32:54.912Z"
   },
   {
    "duration": 12,
    "start_time": "2022-03-28T04:32:55.186Z"
   },
   {
    "duration": 253,
    "start_time": "2022-03-28T04:32:55.200Z"
   },
   {
    "duration": 166,
    "start_time": "2022-03-28T04:32:55.454Z"
   },
   {
    "duration": 286,
    "start_time": "2022-03-28T04:32:55.622Z"
   },
   {
    "duration": 190,
    "start_time": "2022-03-28T04:32:55.910Z"
   },
   {
    "duration": 314,
    "start_time": "2022-03-28T04:32:56.102Z"
   },
   {
    "duration": 128,
    "start_time": "2022-03-28T04:32:56.418Z"
   },
   {
    "duration": 4,
    "start_time": "2022-03-28T04:32:56.548Z"
   },
   {
    "duration": 19,
    "start_time": "2022-03-28T04:32:56.553Z"
   },
   {
    "duration": 130,
    "start_time": "2022-03-28T04:32:56.574Z"
   },
   {
    "duration": 124,
    "start_time": "2022-03-28T04:32:56.706Z"
   },
   {
    "duration": 4,
    "start_time": "2022-03-28T04:32:56.836Z"
   },
   {
    "duration": 288,
    "start_time": "2022-03-28T04:32:56.843Z"
   },
   {
    "duration": 18,
    "start_time": "2022-03-28T04:32:57.137Z"
   },
   {
    "duration": 11,
    "start_time": "2022-03-28T04:32:57.157Z"
   },
   {
    "duration": 158,
    "start_time": "2022-03-28T04:32:57.169Z"
   },
   {
    "duration": 15,
    "start_time": "2022-03-28T04:32:57.329Z"
   },
   {
    "duration": 11,
    "start_time": "2022-03-28T04:32:57.345Z"
   },
   {
    "duration": 31,
    "start_time": "2022-03-28T04:32:57.357Z"
   },
   {
    "duration": 12,
    "start_time": "2022-03-28T04:32:57.390Z"
   },
   {
    "duration": 54,
    "start_time": "2022-03-28T05:58:01.357Z"
   },
   {
    "duration": 1799,
    "start_time": "2022-03-28T05:58:08.183Z"
   },
   {
    "duration": 43,
    "start_time": "2022-03-28T05:58:09.984Z"
   },
   {
    "duration": 24,
    "start_time": "2022-03-28T05:58:10.029Z"
   },
   {
    "duration": 4,
    "start_time": "2022-03-28T05:58:10.056Z"
   },
   {
    "duration": 16,
    "start_time": "2022-03-28T05:58:10.062Z"
   },
   {
    "duration": 23,
    "start_time": "2022-03-28T05:58:10.080Z"
   },
   {
    "duration": 16,
    "start_time": "2022-03-28T05:58:10.105Z"
   },
   {
    "duration": 20,
    "start_time": "2022-03-28T05:58:10.123Z"
   },
   {
    "duration": 59,
    "start_time": "2022-03-28T05:58:10.145Z"
   },
   {
    "duration": 19,
    "start_time": "2022-03-28T05:58:10.208Z"
   },
   {
    "duration": 21,
    "start_time": "2022-03-28T05:58:10.229Z"
   },
   {
    "duration": 50,
    "start_time": "2022-03-28T05:58:10.253Z"
   },
   {
    "duration": 216,
    "start_time": "2022-03-28T05:58:10.306Z"
   },
   {
    "duration": 164,
    "start_time": "2022-03-28T05:58:10.525Z"
   },
   {
    "duration": 347,
    "start_time": "2022-03-28T05:58:10.703Z"
   },
   {
    "duration": 11,
    "start_time": "2022-03-28T05:58:11.053Z"
   },
   {
    "duration": 305,
    "start_time": "2022-03-28T05:58:11.066Z"
   },
   {
    "duration": 192,
    "start_time": "2022-03-28T05:58:11.373Z"
   },
   {
    "duration": 384,
    "start_time": "2022-03-28T05:58:11.567Z"
   },
   {
    "duration": 272,
    "start_time": "2022-03-28T05:58:11.953Z"
   },
   {
    "duration": 305,
    "start_time": "2022-03-28T05:58:12.227Z"
   },
   {
    "duration": 145,
    "start_time": "2022-03-28T05:58:12.534Z"
   },
   {
    "duration": 5,
    "start_time": "2022-03-28T05:58:12.681Z"
   },
   {
    "duration": 31,
    "start_time": "2022-03-28T05:58:12.688Z"
   },
   {
    "duration": 148,
    "start_time": "2022-03-28T05:58:12.721Z"
   },
   {
    "duration": 146,
    "start_time": "2022-03-28T05:58:12.871Z"
   },
   {
    "duration": 5,
    "start_time": "2022-03-28T05:58:13.019Z"
   },
   {
    "duration": 332,
    "start_time": "2022-03-28T05:58:13.027Z"
   },
   {
    "duration": 27,
    "start_time": "2022-03-28T05:58:13.361Z"
   },
   {
    "duration": 9,
    "start_time": "2022-03-28T05:58:13.401Z"
   },
   {
    "duration": 176,
    "start_time": "2022-03-28T05:58:13.412Z"
   },
   {
    "duration": 21,
    "start_time": "2022-03-28T05:58:13.590Z"
   },
   {
    "duration": 11,
    "start_time": "2022-03-28T05:58:13.614Z"
   },
   {
    "duration": 51,
    "start_time": "2022-03-28T05:58:13.627Z"
   },
   {
    "duration": 32,
    "start_time": "2022-03-28T05:58:13.681Z"
   },
   {
    "duration": 597,
    "start_time": "2022-03-28T05:58:39.507Z"
   },
   {
    "duration": 4,
    "start_time": "2022-03-28T05:59:36.470Z"
   },
   {
    "duration": 19,
    "start_time": "2022-03-28T05:59:45.158Z"
   },
   {
    "duration": 1788,
    "start_time": "2022-03-28T17:06:06.231Z"
   },
   {
    "duration": 47,
    "start_time": "2022-03-28T17:06:08.022Z"
   },
   {
    "duration": 30,
    "start_time": "2022-03-28T17:06:08.071Z"
   },
   {
    "duration": 4,
    "start_time": "2022-03-28T17:06:08.104Z"
   },
   {
    "duration": 7,
    "start_time": "2022-03-28T17:06:08.110Z"
   },
   {
    "duration": 19,
    "start_time": "2022-03-28T17:06:08.119Z"
   },
   {
    "duration": 47,
    "start_time": "2022-03-28T17:06:08.141Z"
   },
   {
    "duration": 37,
    "start_time": "2022-03-28T17:06:08.191Z"
   },
   {
    "duration": 43,
    "start_time": "2022-03-28T17:06:08.231Z"
   },
   {
    "duration": 22,
    "start_time": "2022-03-28T17:06:08.277Z"
   },
   {
    "duration": 37,
    "start_time": "2022-03-28T17:06:08.301Z"
   },
   {
    "duration": 35,
    "start_time": "2022-03-28T17:06:08.340Z"
   },
   {
    "duration": 282,
    "start_time": "2022-03-28T17:06:08.377Z"
   },
   {
    "duration": 238,
    "start_time": "2022-03-28T17:06:08.661Z"
   },
   {
    "duration": 467,
    "start_time": "2022-03-28T17:06:08.901Z"
   },
   {
    "duration": 13,
    "start_time": "2022-03-28T17:06:09.370Z"
   },
   {
    "duration": 436,
    "start_time": "2022-03-28T17:06:09.385Z"
   },
   {
    "duration": 302,
    "start_time": "2022-03-28T17:06:09.823Z"
   },
   {
    "duration": 467,
    "start_time": "2022-03-28T17:06:10.128Z"
   },
   {
    "duration": 306,
    "start_time": "2022-03-28T17:06:10.597Z"
   },
   {
    "duration": 493,
    "start_time": "2022-03-28T17:06:10.905Z"
   },
   {
    "duration": 293,
    "start_time": "2022-03-28T17:06:11.401Z"
   },
   {
    "duration": 7,
    "start_time": "2022-03-28T17:06:11.697Z"
   },
   {
    "duration": 39,
    "start_time": "2022-03-28T17:06:11.707Z"
   },
   {
    "duration": 198,
    "start_time": "2022-03-28T17:06:11.773Z"
   },
   {
    "duration": 220,
    "start_time": "2022-03-28T17:06:11.973Z"
   },
   {
    "duration": 6,
    "start_time": "2022-03-28T17:06:12.196Z"
   },
   {
    "duration": 462,
    "start_time": "2022-03-28T17:06:12.207Z"
   },
   {
    "duration": 35,
    "start_time": "2022-03-28T17:06:12.673Z"
   },
   {
    "duration": 10,
    "start_time": "2022-03-28T17:06:12.710Z"
   },
   {
    "duration": 353,
    "start_time": "2022-03-28T17:06:12.723Z"
   },
   {
    "duration": 16,
    "start_time": "2022-03-28T17:06:13.079Z"
   },
   {
    "duration": 14,
    "start_time": "2022-03-28T17:06:13.098Z"
   },
   {
    "duration": 81,
    "start_time": "2022-03-28T17:06:13.114Z"
   },
   {
    "duration": 19,
    "start_time": "2022-03-28T17:06:13.197Z"
   },
   {
    "duration": 5,
    "start_time": "2022-03-28T17:07:17.409Z"
   },
   {
    "duration": 16,
    "start_time": "2022-03-28T17:07:24.326Z"
   },
   {
    "duration": 14,
    "start_time": "2022-03-28T17:07:31.857Z"
   },
   {
    "duration": 15,
    "start_time": "2022-03-28T17:07:36.434Z"
   },
   {
    "duration": 14,
    "start_time": "2022-03-28T17:07:41.646Z"
   },
   {
    "duration": 15,
    "start_time": "2022-03-28T17:07:47.505Z"
   },
   {
    "duration": 14,
    "start_time": "2022-03-28T17:08:35.497Z"
   },
   {
    "duration": 4,
    "start_time": "2022-03-28T17:08:36.070Z"
   },
   {
    "duration": 6,
    "start_time": "2022-03-28T17:08:36.490Z"
   },
   {
    "duration": 19,
    "start_time": "2022-03-28T17:08:37.606Z"
   },
   {
    "duration": 21,
    "start_time": "2022-03-28T17:08:38.933Z"
   },
   {
    "duration": 191,
    "start_time": "2022-03-28T17:14:45.553Z"
   },
   {
    "duration": 159,
    "start_time": "2022-03-28T17:14:54.121Z"
   },
   {
    "duration": 189,
    "start_time": "2022-03-28T17:16:04.081Z"
   },
   {
    "duration": 176,
    "start_time": "2022-03-28T17:17:34.237Z"
   },
   {
    "duration": 584,
    "start_time": "2022-03-28T17:18:45.054Z"
   },
   {
    "duration": 364,
    "start_time": "2022-03-28T17:19:03.816Z"
   },
   {
    "duration": 273,
    "start_time": "2022-03-28T17:19:53.790Z"
   },
   {
    "duration": 198,
    "start_time": "2022-03-28T17:20:48.376Z"
   },
   {
    "duration": 224,
    "start_time": "2022-03-28T17:21:03.552Z"
   },
   {
    "duration": 201,
    "start_time": "2022-03-28T17:21:41.845Z"
   },
   {
    "duration": 117,
    "start_time": "2022-03-28T17:24:45.117Z"
   },
   {
    "duration": 12,
    "start_time": "2022-03-28T17:33:04.315Z"
   },
   {
    "duration": 13,
    "start_time": "2022-03-28T17:35:24.778Z"
   },
   {
    "duration": 324,
    "start_time": "2022-03-28T17:41:15.353Z"
   },
   {
    "duration": 451,
    "start_time": "2022-03-28T17:41:41.900Z"
   },
   {
    "duration": 524,
    "start_time": "2022-03-28T17:42:58.963Z"
   },
   {
    "duration": 6,
    "start_time": "2022-03-28T17:43:08.196Z"
   },
   {
    "duration": 5,
    "start_time": "2022-03-28T17:43:13.561Z"
   },
   {
    "duration": 495,
    "start_time": "2022-03-28T17:43:18.896Z"
   },
   {
    "duration": 1888,
    "start_time": "2022-03-28T17:44:56.494Z"
   },
   {
    "duration": 445,
    "start_time": "2022-03-28T17:45:02.412Z"
   },
   {
    "duration": 373,
    "start_time": "2022-03-28T17:45:45.606Z"
   },
   {
    "duration": 314,
    "start_time": "2022-03-28T17:52:17.803Z"
   },
   {
    "duration": 425,
    "start_time": "2022-03-28T17:52:27.372Z"
   },
   {
    "duration": 335,
    "start_time": "2022-03-28T17:52:36.399Z"
   },
   {
    "duration": 486,
    "start_time": "2022-03-28T17:52:46.217Z"
   },
   {
    "duration": 207,
    "start_time": "2022-03-28T17:53:35.944Z"
   },
   {
    "duration": 320,
    "start_time": "2022-03-28T17:54:34.524Z"
   },
   {
    "duration": 19,
    "start_time": "2022-03-28T17:55:59.625Z"
   },
   {
    "duration": 321,
    "start_time": "2022-03-28T17:56:07.789Z"
   },
   {
    "duration": 210,
    "start_time": "2022-03-28T17:57:00.282Z"
   },
   {
    "duration": 330,
    "start_time": "2022-03-28T18:00:37.114Z"
   },
   {
    "duration": 202,
    "start_time": "2022-03-28T18:00:56.856Z"
   },
   {
    "duration": 206,
    "start_time": "2022-03-28T18:01:30.638Z"
   },
   {
    "duration": 18,
    "start_time": "2022-03-28T18:04:17.618Z"
   },
   {
    "duration": 112,
    "start_time": "2022-03-28T18:04:33.367Z"
   },
   {
    "duration": 31,
    "start_time": "2022-03-28T18:04:44.727Z"
   },
   {
    "duration": 218,
    "start_time": "2022-03-28T18:05:00.043Z"
   },
   {
    "duration": 120,
    "start_time": "2022-03-28T18:05:55.599Z"
   },
   {
    "duration": 141,
    "start_time": "2022-03-28T18:06:04.396Z"
   },
   {
    "duration": 17,
    "start_time": "2022-03-28T18:06:12.716Z"
   },
   {
    "duration": 226,
    "start_time": "2022-03-28T18:06:40.602Z"
   },
   {
    "duration": 405,
    "start_time": "2022-03-28T18:06:51.355Z"
   },
   {
    "duration": 571,
    "start_time": "2022-03-28T18:07:29.131Z"
   },
   {
    "duration": 320,
    "start_time": "2022-03-28T18:08:40.765Z"
   },
   {
    "duration": 600,
    "start_time": "2022-03-28T18:10:52.004Z"
   },
   {
    "duration": 628,
    "start_time": "2022-03-28T18:11:05.629Z"
   },
   {
    "duration": 1396,
    "start_time": "2022-03-28T18:23:17.936Z"
   },
   {
    "duration": 41,
    "start_time": "2022-03-28T18:23:19.335Z"
   },
   {
    "duration": 28,
    "start_time": "2022-03-28T18:23:19.379Z"
   },
   {
    "duration": 11,
    "start_time": "2022-03-28T18:23:19.409Z"
   },
   {
    "duration": 11,
    "start_time": "2022-03-28T18:23:19.424Z"
   },
   {
    "duration": 9,
    "start_time": "2022-03-28T18:23:19.437Z"
   },
   {
    "duration": 20,
    "start_time": "2022-03-28T18:23:19.475Z"
   },
   {
    "duration": 19,
    "start_time": "2022-03-28T18:23:19.497Z"
   },
   {
    "duration": 406,
    "start_time": "2022-03-28T18:23:19.518Z"
   },
   {
    "duration": 24,
    "start_time": "2022-03-28T18:23:19.927Z"
   },
   {
    "duration": 40,
    "start_time": "2022-03-28T18:23:19.953Z"
   },
   {
    "duration": 13,
    "start_time": "2022-03-28T18:23:19.995Z"
   },
   {
    "duration": 22,
    "start_time": "2022-03-28T18:23:20.010Z"
   },
   {
    "duration": 22,
    "start_time": "2022-03-28T18:23:20.074Z"
   },
   {
    "duration": 20,
    "start_time": "2022-03-28T18:23:20.099Z"
   },
   {
    "duration": 25,
    "start_time": "2022-03-28T18:23:20.122Z"
   },
   {
    "duration": 328,
    "start_time": "2022-03-28T18:23:20.154Z"
   },
   {
    "duration": 232,
    "start_time": "2022-03-28T18:23:20.484Z"
   },
   {
    "duration": 506,
    "start_time": "2022-03-28T18:23:20.719Z"
   },
   {
    "duration": 14,
    "start_time": "2022-03-28T18:23:21.227Z"
   },
   {
    "duration": 474,
    "start_time": "2022-03-28T18:23:21.243Z"
   },
   {
    "duration": 332,
    "start_time": "2022-03-28T18:23:21.720Z"
   },
   {
    "duration": 421,
    "start_time": "2022-03-28T18:23:22.055Z"
   },
   {
    "duration": 354,
    "start_time": "2022-03-28T18:23:22.479Z"
   },
   {
    "duration": 476,
    "start_time": "2022-03-28T18:23:22.835Z"
   },
   {
    "duration": 231,
    "start_time": "2022-03-28T18:23:23.314Z"
   },
   {
    "duration": 6,
    "start_time": "2022-03-28T18:23:23.547Z"
   },
   {
    "duration": 50,
    "start_time": "2022-03-28T18:23:23.555Z"
   },
   {
    "duration": 22,
    "start_time": "2022-03-28T18:23:23.608Z"
   },
   {
    "duration": 729,
    "start_time": "2022-03-28T18:23:23.632Z"
   },
   {
    "duration": 230,
    "start_time": "2022-03-28T18:23:24.364Z"
   },
   {
    "duration": 214,
    "start_time": "2022-03-28T18:23:24.597Z"
   },
   {
    "duration": 6,
    "start_time": "2022-03-28T18:23:24.814Z"
   },
   {
    "duration": 403,
    "start_time": "2022-03-28T18:23:24.823Z"
   },
   {
    "duration": 47,
    "start_time": "2022-03-28T18:23:25.228Z"
   },
   {
    "duration": 21,
    "start_time": "2022-03-28T18:23:25.279Z"
   },
   {
    "duration": 327,
    "start_time": "2022-03-28T18:23:25.302Z"
   },
   {
    "duration": 17,
    "start_time": "2022-03-28T18:23:25.631Z"
   },
   {
    "duration": 32,
    "start_time": "2022-03-28T18:23:25.650Z"
   },
   {
    "duration": 40,
    "start_time": "2022-03-28T18:23:25.684Z"
   },
   {
    "duration": 45,
    "start_time": "2022-03-28T18:23:25.729Z"
   },
   {
    "duration": 220,
    "start_time": "2022-03-28T18:24:51.105Z"
   },
   {
    "duration": 6,
    "start_time": "2022-03-28T18:25:33.043Z"
   },
   {
    "duration": 58,
    "start_time": "2022-03-28T19:06:52.029Z"
   },
   {
    "duration": 1435,
    "start_time": "2022-03-28T19:07:00.521Z"
   },
   {
    "duration": 79,
    "start_time": "2022-03-28T19:07:01.960Z"
   },
   {
    "duration": 25,
    "start_time": "2022-03-28T19:07:02.041Z"
   },
   {
    "duration": 15,
    "start_time": "2022-03-28T19:07:02.070Z"
   },
   {
    "duration": 15,
    "start_time": "2022-03-28T19:07:02.088Z"
   },
   {
    "duration": 12,
    "start_time": "2022-03-28T19:07:02.105Z"
   },
   {
    "duration": 26,
    "start_time": "2022-03-28T19:07:02.119Z"
   },
   {
    "duration": 15,
    "start_time": "2022-03-28T19:07:02.148Z"
   },
   {
    "duration": 299,
    "start_time": "2022-03-28T19:07:02.166Z"
   },
   {
    "duration": 18,
    "start_time": "2022-03-28T19:07:02.469Z"
   },
   {
    "duration": 24,
    "start_time": "2022-03-28T19:07:02.490Z"
   },
   {
    "duration": 11,
    "start_time": "2022-03-28T19:07:02.533Z"
   },
   {
    "duration": 19,
    "start_time": "2022-03-28T19:07:02.546Z"
   },
   {
    "duration": 29,
    "start_time": "2022-03-28T19:07:02.567Z"
   },
   {
    "duration": 16,
    "start_time": "2022-03-28T19:07:02.598Z"
   },
   {
    "duration": 15,
    "start_time": "2022-03-28T19:07:02.633Z"
   },
   {
    "duration": 215,
    "start_time": "2022-03-28T19:07:02.650Z"
   },
   {
    "duration": 148,
    "start_time": "2022-03-28T19:07:02.867Z"
   },
   {
    "duration": 325,
    "start_time": "2022-03-28T19:07:03.017Z"
   },
   {
    "duration": 10,
    "start_time": "2022-03-28T19:07:03.344Z"
   },
   {
    "duration": 354,
    "start_time": "2022-03-28T19:07:03.356Z"
   },
   {
    "duration": 223,
    "start_time": "2022-03-28T19:07:03.713Z"
   },
   {
    "duration": 357,
    "start_time": "2022-03-28T19:07:03.938Z"
   },
   {
    "duration": 247,
    "start_time": "2022-03-28T19:07:04.297Z"
   },
   {
    "duration": 347,
    "start_time": "2022-03-28T19:07:04.545Z"
   },
   {
    "duration": 173,
    "start_time": "2022-03-28T19:07:04.894Z"
   },
   {
    "duration": 6,
    "start_time": "2022-03-28T19:07:05.069Z"
   },
   {
    "duration": 30,
    "start_time": "2022-03-28T19:07:05.080Z"
   },
   {
    "duration": 32,
    "start_time": "2022-03-28T19:07:05.112Z"
   },
   {
    "duration": 547,
    "start_time": "2022-03-28T19:07:05.145Z"
   },
   {
    "duration": 167,
    "start_time": "2022-03-28T19:07:05.694Z"
   },
   {
    "duration": 4,
    "start_time": "2022-03-28T19:07:05.863Z"
   },
   {
    "duration": 244,
    "start_time": "2022-03-28T19:07:05.869Z"
   },
   {
    "duration": 34,
    "start_time": "2022-03-28T19:07:06.115Z"
   },
   {
    "duration": 9,
    "start_time": "2022-03-28T19:07:06.151Z"
   },
   {
    "duration": 191,
    "start_time": "2022-03-28T19:07:06.162Z"
   },
   {
    "duration": 12,
    "start_time": "2022-03-28T19:07:06.354Z"
   },
   {
    "duration": 11,
    "start_time": "2022-03-28T19:07:06.367Z"
   },
   {
    "duration": 58,
    "start_time": "2022-03-28T19:07:06.380Z"
   },
   {
    "duration": 16,
    "start_time": "2022-03-28T19:07:06.440Z"
   },
   {
    "duration": 222,
    "start_time": "2022-03-28T19:08:05.864Z"
   },
   {
    "duration": 462,
    "start_time": "2022-03-28T19:08:23.131Z"
   },
   {
    "duration": 315,
    "start_time": "2022-03-28T19:08:54.566Z"
   },
   {
    "duration": 383,
    "start_time": "2022-03-28T19:09:15.103Z"
   },
   {
    "duration": 243,
    "start_time": "2022-03-28T19:09:23.894Z"
   },
   {
    "duration": 353,
    "start_time": "2022-03-28T19:09:32.267Z"
   },
   {
    "duration": 249,
    "start_time": "2022-03-28T19:10:14.257Z"
   },
   {
    "duration": 1216,
    "start_time": "2022-03-28T19:56:17.219Z"
   },
   {
    "duration": 66,
    "start_time": "2022-03-28T19:56:18.437Z"
   },
   {
    "duration": 21,
    "start_time": "2022-03-28T19:56:18.505Z"
   },
   {
    "duration": 9,
    "start_time": "2022-03-28T19:56:18.529Z"
   },
   {
    "duration": 5,
    "start_time": "2022-03-28T19:56:18.539Z"
   },
   {
    "duration": 9,
    "start_time": "2022-03-28T19:56:18.546Z"
   },
   {
    "duration": 17,
    "start_time": "2022-03-28T19:56:18.557Z"
   },
   {
    "duration": 14,
    "start_time": "2022-03-28T19:56:18.576Z"
   },
   {
    "duration": 287,
    "start_time": "2022-03-28T19:56:18.591Z"
   },
   {
    "duration": 16,
    "start_time": "2022-03-28T19:56:18.881Z"
   },
   {
    "duration": 34,
    "start_time": "2022-03-28T19:56:18.899Z"
   },
   {
    "duration": 10,
    "start_time": "2022-03-28T19:56:18.934Z"
   },
   {
    "duration": 20,
    "start_time": "2022-03-28T19:56:18.945Z"
   },
   {
    "duration": 14,
    "start_time": "2022-03-28T19:56:18.966Z"
   },
   {
    "duration": 12,
    "start_time": "2022-03-28T19:56:18.982Z"
   },
   {
    "duration": 14,
    "start_time": "2022-03-28T19:56:19.032Z"
   },
   {
    "duration": 196,
    "start_time": "2022-03-28T19:56:19.047Z"
   },
   {
    "duration": 154,
    "start_time": "2022-03-28T19:56:19.245Z"
   },
   {
    "duration": 305,
    "start_time": "2022-03-28T19:56:19.401Z"
   },
   {
    "duration": 9,
    "start_time": "2022-03-28T19:56:19.708Z"
   },
   {
    "duration": 308,
    "start_time": "2022-03-28T19:56:19.718Z"
   },
   {
    "duration": 227,
    "start_time": "2022-03-28T19:56:20.032Z"
   },
   {
    "duration": 307,
    "start_time": "2022-03-28T19:56:20.261Z"
   },
   {
    "duration": 251,
    "start_time": "2022-03-28T19:56:20.571Z"
   },
   {
    "duration": 363,
    "start_time": "2022-03-28T19:56:20.824Z"
   },
   {
    "duration": 155,
    "start_time": "2022-03-28T19:56:21.189Z"
   },
   {
    "duration": 5,
    "start_time": "2022-03-28T19:56:21.345Z"
   },
   {
    "duration": 28,
    "start_time": "2022-03-28T19:56:21.353Z"
   },
   {
    "duration": 493,
    "start_time": "2022-03-28T19:56:21.383Z"
   },
   {
    "duration": 162,
    "start_time": "2022-03-28T19:56:21.878Z"
   },
   {
    "duration": 5,
    "start_time": "2022-03-28T19:56:22.042Z"
   },
   {
    "duration": 252,
    "start_time": "2022-03-28T19:56:22.048Z"
   },
   {
    "duration": 34,
    "start_time": "2022-03-28T19:56:22.302Z"
   },
   {
    "duration": 11,
    "start_time": "2022-03-28T19:56:22.338Z"
   },
   {
    "duration": 171,
    "start_time": "2022-03-28T19:56:22.351Z"
   },
   {
    "duration": 16,
    "start_time": "2022-03-28T19:56:22.524Z"
   },
   {
    "duration": 14,
    "start_time": "2022-03-28T19:56:22.542Z"
   },
   {
    "duration": 37,
    "start_time": "2022-03-28T19:56:22.558Z"
   },
   {
    "duration": 35,
    "start_time": "2022-03-28T19:56:22.597Z"
   },
   {
    "duration": 1455,
    "start_time": "2022-03-29T03:56:43.661Z"
   },
   {
    "duration": 66,
    "start_time": "2022-03-29T03:56:45.119Z"
   },
   {
    "duration": 28,
    "start_time": "2022-03-29T03:56:45.188Z"
   },
   {
    "duration": 11,
    "start_time": "2022-03-29T03:56:45.218Z"
   },
   {
    "duration": 4,
    "start_time": "2022-03-29T03:56:45.233Z"
   },
   {
    "duration": 8,
    "start_time": "2022-03-29T03:56:45.240Z"
   },
   {
    "duration": 21,
    "start_time": "2022-03-29T03:56:45.250Z"
   },
   {
    "duration": 18,
    "start_time": "2022-03-29T03:56:45.273Z"
   },
   {
    "duration": 394,
    "start_time": "2022-03-29T03:56:45.294Z"
   },
   {
    "duration": 23,
    "start_time": "2022-03-29T03:56:45.690Z"
   },
   {
    "duration": 43,
    "start_time": "2022-03-29T03:56:45.715Z"
   },
   {
    "duration": 12,
    "start_time": "2022-03-29T03:56:45.761Z"
   },
   {
    "duration": 21,
    "start_time": "2022-03-29T03:56:45.775Z"
   },
   {
    "duration": 60,
    "start_time": "2022-03-29T03:56:45.801Z"
   },
   {
    "duration": 11,
    "start_time": "2022-03-29T03:56:45.863Z"
   },
   {
    "duration": 18,
    "start_time": "2022-03-29T03:56:45.876Z"
   },
   {
    "duration": 314,
    "start_time": "2022-03-29T03:56:45.895Z"
   },
   {
    "duration": 243,
    "start_time": "2022-03-29T03:56:46.211Z"
   },
   {
    "duration": 476,
    "start_time": "2022-03-29T03:56:46.457Z"
   },
   {
    "duration": 14,
    "start_time": "2022-03-29T03:56:46.936Z"
   },
   {
    "duration": 646,
    "start_time": "2022-03-29T03:56:46.952Z"
   },
   {
    "duration": 454,
    "start_time": "2022-03-29T03:56:47.601Z"
   },
   {
    "duration": 535,
    "start_time": "2022-03-29T03:56:48.058Z"
   },
   {
    "duration": 500,
    "start_time": "2022-03-29T03:56:48.596Z"
   },
   {
    "duration": 500,
    "start_time": "2022-03-29T03:56:49.099Z"
   },
   {
    "duration": 219,
    "start_time": "2022-03-29T03:56:49.602Z"
   },
   {
    "duration": 5,
    "start_time": "2022-03-29T03:56:49.824Z"
   },
   {
    "duration": 30,
    "start_time": "2022-03-29T03:56:49.843Z"
   },
   {
    "duration": 662,
    "start_time": "2022-03-29T03:56:49.876Z"
   },
   {
    "duration": 219,
    "start_time": "2022-03-29T03:56:50.543Z"
   },
   {
    "duration": 6,
    "start_time": "2022-03-29T03:56:50.764Z"
   },
   {
    "duration": 375,
    "start_time": "2022-03-29T03:56:50.772Z"
   },
   {
    "duration": 33,
    "start_time": "2022-03-29T03:56:51.149Z"
   },
   {
    "duration": 8,
    "start_time": "2022-03-29T03:56:51.184Z"
   },
   {
    "duration": 296,
    "start_time": "2022-03-29T03:56:51.194Z"
   },
   {
    "duration": 13,
    "start_time": "2022-03-29T03:56:51.493Z"
   },
   {
    "duration": 35,
    "start_time": "2022-03-29T03:56:51.509Z"
   },
   {
    "duration": 38,
    "start_time": "2022-03-29T03:56:51.546Z"
   },
   {
    "duration": 20,
    "start_time": "2022-03-29T03:56:51.587Z"
   },
   {
    "duration": 415,
    "start_time": "2022-03-29T04:12:22.171Z"
   },
   {
    "duration": 395,
    "start_time": "2022-03-29T04:12:58.931Z"
   },
   {
    "duration": 14,
    "start_time": "2022-03-29T04:18:30.361Z"
   },
   {
    "duration": 13,
    "start_time": "2022-03-29T04:18:36.988Z"
   },
   {
    "duration": 14,
    "start_time": "2022-03-29T04:18:48.297Z"
   },
   {
    "duration": 6,
    "start_time": "2022-03-29T04:22:25.888Z"
   },
   {
    "duration": 18,
    "start_time": "2022-03-29T04:22:44.221Z"
   },
   {
    "duration": 11,
    "start_time": "2022-03-29T04:23:34.915Z"
   },
   {
    "duration": 835,
    "start_time": "2022-03-29T04:26:57.146Z"
   },
   {
    "duration": 779,
    "start_time": "2022-03-29T04:27:04.668Z"
   },
   {
    "duration": 605,
    "start_time": "2022-03-29T04:30:29.665Z"
   },
   {
    "duration": 5,
    "start_time": "2022-03-29T04:45:32.237Z"
   },
   {
    "duration": 1733,
    "start_time": "2022-03-29T10:51:40.893Z"
   },
   {
    "duration": 44,
    "start_time": "2022-03-29T10:51:42.628Z"
   },
   {
    "duration": 28,
    "start_time": "2022-03-29T10:51:42.674Z"
   },
   {
    "duration": 11,
    "start_time": "2022-03-29T10:51:42.705Z"
   },
   {
    "duration": 4,
    "start_time": "2022-03-29T10:51:42.719Z"
   },
   {
    "duration": 10,
    "start_time": "2022-03-29T10:51:42.725Z"
   },
   {
    "duration": 46,
    "start_time": "2022-03-29T10:51:42.737Z"
   },
   {
    "duration": 18,
    "start_time": "2022-03-29T10:51:42.785Z"
   },
   {
    "duration": 385,
    "start_time": "2022-03-29T10:51:42.805Z"
   },
   {
    "duration": 418,
    "start_time": "2022-03-29T10:51:43.193Z"
   },
   {
    "duration": 23,
    "start_time": "2022-03-29T10:51:43.613Z"
   },
   {
    "duration": 45,
    "start_time": "2022-03-29T10:51:43.638Z"
   },
   {
    "duration": 13,
    "start_time": "2022-03-29T10:51:43.685Z"
   },
   {
    "duration": 21,
    "start_time": "2022-03-29T10:51:43.700Z"
   },
   {
    "duration": 53,
    "start_time": "2022-03-29T10:51:43.723Z"
   },
   {
    "duration": 13,
    "start_time": "2022-03-29T10:51:43.778Z"
   },
   {
    "duration": 14,
    "start_time": "2022-03-29T10:51:43.794Z"
   },
   {
    "duration": 14,
    "start_time": "2022-03-29T10:51:43.811Z"
   },
   {
    "duration": 47,
    "start_time": "2022-03-29T10:51:43.827Z"
   },
   {
    "duration": 17,
    "start_time": "2022-03-29T10:51:43.877Z"
   },
   {
    "duration": 303,
    "start_time": "2022-03-29T10:51:43.896Z"
   },
   {
    "duration": 234,
    "start_time": "2022-03-29T10:51:44.201Z"
   },
   {
    "duration": 483,
    "start_time": "2022-03-29T10:51:44.437Z"
   },
   {
    "duration": 13,
    "start_time": "2022-03-29T10:51:44.923Z"
   },
   {
    "duration": 478,
    "start_time": "2022-03-29T10:51:44.938Z"
   },
   {
    "duration": 330,
    "start_time": "2022-03-29T10:51:45.419Z"
   },
   {
    "duration": 474,
    "start_time": "2022-03-29T10:51:45.752Z"
   },
   {
    "duration": 584,
    "start_time": "2022-03-29T10:51:46.233Z"
   },
   {
    "duration": 351,
    "start_time": "2022-03-29T10:51:46.820Z"
   },
   {
    "duration": 647,
    "start_time": "2022-03-29T10:51:47.175Z"
   },
   {
    "duration": 230,
    "start_time": "2022-03-29T10:51:47.824Z"
   },
   {
    "duration": 15,
    "start_time": "2022-03-29T10:51:48.056Z"
   },
   {
    "duration": 34,
    "start_time": "2022-03-29T10:51:48.073Z"
   },
   {
    "duration": 645,
    "start_time": "2022-03-29T10:51:48.109Z"
   },
   {
    "duration": 237,
    "start_time": "2022-03-29T10:51:48.756Z"
   },
   {
    "duration": 5,
    "start_time": "2022-03-29T10:51:48.996Z"
   },
   {
    "duration": 392,
    "start_time": "2022-03-29T10:51:49.004Z"
   },
   {
    "duration": 34,
    "start_time": "2022-03-29T10:51:49.398Z"
   },
   {
    "duration": 11,
    "start_time": "2022-03-29T10:51:49.434Z"
   },
   {
    "duration": 304,
    "start_time": "2022-03-29T10:51:49.448Z"
   },
   {
    "duration": 22,
    "start_time": "2022-03-29T10:51:49.754Z"
   },
   {
    "duration": 13,
    "start_time": "2022-03-29T10:51:49.778Z"
   },
   {
    "duration": 36,
    "start_time": "2022-03-29T10:51:49.793Z"
   },
   {
    "duration": 48,
    "start_time": "2022-03-29T10:51:49.832Z"
   },
   {
    "duration": 715,
    "start_time": "2022-03-29T11:06:45.865Z"
   },
   {
    "duration": 816,
    "start_time": "2022-03-29T11:08:12.528Z"
   },
   {
    "duration": 914,
    "start_time": "2022-03-29T11:08:51.114Z"
   },
   {
    "duration": 931,
    "start_time": "2022-03-29T11:09:09.676Z"
   },
   {
    "duration": 908,
    "start_time": "2022-03-29T11:09:28.120Z"
   },
   {
    "duration": 912,
    "start_time": "2022-03-29T11:09:41.836Z"
   },
   {
    "duration": 884,
    "start_time": "2022-03-29T11:11:27.365Z"
   },
   {
    "duration": 838,
    "start_time": "2022-03-29T11:11:50.733Z"
   },
   {
    "duration": 811,
    "start_time": "2022-03-29T11:12:27.292Z"
   },
   {
    "duration": 706,
    "start_time": "2022-03-29T11:12:44.012Z"
   },
   {
    "duration": 764,
    "start_time": "2022-03-29T11:17:13.829Z"
   },
   {
    "duration": 212,
    "start_time": "2022-03-29T11:22:05.112Z"
   },
   {
    "duration": 385,
    "start_time": "2022-03-29T11:22:19.320Z"
   },
   {
    "duration": 16,
    "start_time": "2022-03-29T11:25:29.305Z"
   },
   {
    "duration": 15,
    "start_time": "2022-03-29T11:26:17.474Z"
   },
   {
    "duration": 2066,
    "start_time": "2022-03-29T13:59:44.916Z"
   },
   {
    "duration": 45,
    "start_time": "2022-03-29T13:59:46.986Z"
   },
   {
    "duration": 39,
    "start_time": "2022-03-29T13:59:47.034Z"
   },
   {
    "duration": 28,
    "start_time": "2022-03-29T13:59:47.077Z"
   },
   {
    "duration": 23,
    "start_time": "2022-03-29T13:59:47.108Z"
   },
   {
    "duration": 31,
    "start_time": "2022-03-29T13:59:47.134Z"
   },
   {
    "duration": 76,
    "start_time": "2022-03-29T13:59:47.167Z"
   },
   {
    "duration": 20,
    "start_time": "2022-03-29T13:59:47.246Z"
   },
   {
    "duration": 514,
    "start_time": "2022-03-29T13:59:47.269Z"
   },
   {
    "duration": 503,
    "start_time": "2022-03-29T13:59:47.796Z"
   },
   {
    "duration": 31,
    "start_time": "2022-03-29T13:59:48.302Z"
   },
   {
    "duration": 55,
    "start_time": "2022-03-29T13:59:48.335Z"
   },
   {
    "duration": 54,
    "start_time": "2022-03-29T13:59:48.393Z"
   },
   {
    "duration": 62,
    "start_time": "2022-03-29T13:59:48.450Z"
   },
   {
    "duration": 46,
    "start_time": "2022-03-29T13:59:48.515Z"
   },
   {
    "duration": 67,
    "start_time": "2022-03-29T13:59:48.564Z"
   },
   {
    "duration": 74,
    "start_time": "2022-03-29T13:59:48.635Z"
   },
   {
    "duration": 49,
    "start_time": "2022-03-29T13:59:48.711Z"
   },
   {
    "duration": 77,
    "start_time": "2022-03-29T13:59:48.763Z"
   },
   {
    "duration": 70,
    "start_time": "2022-03-29T13:59:48.843Z"
   },
   {
    "duration": 412,
    "start_time": "2022-03-29T13:59:48.916Z"
   },
   {
    "duration": 264,
    "start_time": "2022-03-29T13:59:49.330Z"
   },
   {
    "duration": 703,
    "start_time": "2022-03-29T13:59:49.597Z"
   },
   {
    "duration": 23,
    "start_time": "2022-03-29T13:59:50.303Z"
   },
   {
    "duration": 558,
    "start_time": "2022-03-29T13:59:50.329Z"
   },
   {
    "duration": 925,
    "start_time": "2022-03-29T13:59:50.891Z"
   },
   {
    "duration": 788,
    "start_time": "2022-03-29T13:59:51.820Z"
   },
   {
    "duration": 958,
    "start_time": "2022-03-29T13:59:52.616Z"
   },
   {
    "duration": 438,
    "start_time": "2022-03-29T13:59:53.583Z"
   },
   {
    "duration": 8,
    "start_time": "2022-03-29T13:59:54.024Z"
   },
   {
    "duration": 63,
    "start_time": "2022-03-29T13:59:54.035Z"
   },
   {
    "duration": 452,
    "start_time": "2022-03-29T13:59:54.101Z"
   },
   {
    "duration": 268,
    "start_time": "2022-03-29T13:59:54.555Z"
   },
   {
    "duration": 179,
    "start_time": "2022-03-29T13:59:54.827Z"
   },
   {
    "duration": 0,
    "start_time": "2022-03-29T13:59:55.009Z"
   },
   {
    "duration": 0,
    "start_time": "2022-03-29T13:59:55.012Z"
   },
   {
    "duration": 0,
    "start_time": "2022-03-29T13:59:55.014Z"
   },
   {
    "duration": 0,
    "start_time": "2022-03-29T13:59:55.015Z"
   },
   {
    "duration": 0,
    "start_time": "2022-03-29T13:59:55.018Z"
   },
   {
    "duration": 0,
    "start_time": "2022-03-29T13:59:55.021Z"
   },
   {
    "duration": 0,
    "start_time": "2022-03-29T13:59:55.022Z"
   },
   {
    "duration": 0,
    "start_time": "2022-03-29T13:59:55.025Z"
   },
   {
    "duration": 241,
    "start_time": "2022-03-29T14:01:48.741Z"
   },
   {
    "duration": 7,
    "start_time": "2022-03-29T14:02:23.605Z"
   },
   {
    "duration": 344,
    "start_time": "2022-03-29T14:02:56.119Z"
   },
   {
    "duration": 1543,
    "start_time": "2022-03-29T14:03:04.827Z"
   },
   {
    "duration": 56,
    "start_time": "2022-03-29T14:03:06.374Z"
   },
   {
    "duration": 29,
    "start_time": "2022-03-29T14:03:06.432Z"
   },
   {
    "duration": 23,
    "start_time": "2022-03-29T14:03:06.465Z"
   },
   {
    "duration": 33,
    "start_time": "2022-03-29T14:03:06.492Z"
   },
   {
    "duration": 43,
    "start_time": "2022-03-29T14:03:06.527Z"
   },
   {
    "duration": 57,
    "start_time": "2022-03-29T14:03:06.572Z"
   },
   {
    "duration": 30,
    "start_time": "2022-03-29T14:03:06.632Z"
   },
   {
    "duration": 445,
    "start_time": "2022-03-29T14:03:06.665Z"
   },
   {
    "duration": 448,
    "start_time": "2022-03-29T14:03:07.114Z"
   },
   {
    "duration": 41,
    "start_time": "2022-03-29T14:03:07.564Z"
   },
   {
    "duration": 30,
    "start_time": "2022-03-29T14:03:07.607Z"
   },
   {
    "duration": 19,
    "start_time": "2022-03-29T14:03:07.639Z"
   },
   {
    "duration": 26,
    "start_time": "2022-03-29T14:03:07.685Z"
   },
   {
    "duration": 24,
    "start_time": "2022-03-29T14:03:07.713Z"
   },
   {
    "duration": 27,
    "start_time": "2022-03-29T14:03:07.740Z"
   },
   {
    "duration": 26,
    "start_time": "2022-03-29T14:03:07.787Z"
   },
   {
    "duration": 48,
    "start_time": "2022-03-29T14:03:07.816Z"
   },
   {
    "duration": 48,
    "start_time": "2022-03-29T14:03:07.867Z"
   },
   {
    "duration": 26,
    "start_time": "2022-03-29T14:03:07.917Z"
   },
   {
    "duration": 307,
    "start_time": "2022-03-29T14:03:07.945Z"
   },
   {
    "duration": 258,
    "start_time": "2022-03-29T14:03:08.254Z"
   },
   {
    "duration": 538,
    "start_time": "2022-03-29T14:03:08.514Z"
   },
   {
    "duration": 29,
    "start_time": "2022-03-29T14:03:09.063Z"
   },
   {
    "duration": 508,
    "start_time": "2022-03-29T14:03:09.095Z"
   },
   {
    "duration": 816,
    "start_time": "2022-03-29T14:03:09.607Z"
   },
   {
    "duration": 678,
    "start_time": "2022-03-29T14:03:10.426Z"
   },
   {
    "duration": 912,
    "start_time": "2022-03-29T14:03:11.110Z"
   },
   {
    "duration": 373,
    "start_time": "2022-03-29T14:03:12.025Z"
   },
   {
    "duration": 6,
    "start_time": "2022-03-29T14:03:12.401Z"
   },
   {
    "duration": 42,
    "start_time": "2022-03-29T14:03:12.410Z"
   },
   {
    "duration": 500,
    "start_time": "2022-03-29T14:03:12.455Z"
   },
   {
    "duration": 262,
    "start_time": "2022-03-29T14:03:12.957Z"
   },
   {
    "duration": 6,
    "start_time": "2022-03-29T14:03:13.225Z"
   },
   {
    "duration": 438,
    "start_time": "2022-03-29T14:03:13.234Z"
   },
   {
    "duration": 47,
    "start_time": "2022-03-29T14:03:13.683Z"
   },
   {
    "duration": 10,
    "start_time": "2022-03-29T14:03:13.732Z"
   },
   {
    "duration": 370,
    "start_time": "2022-03-29T14:03:13.744Z"
   },
   {
    "duration": 13,
    "start_time": "2022-03-29T14:03:14.117Z"
   },
   {
    "duration": 17,
    "start_time": "2022-03-29T14:03:14.133Z"
   },
   {
    "duration": 74,
    "start_time": "2022-03-29T14:03:14.152Z"
   },
   {
    "duration": 23,
    "start_time": "2022-03-29T14:03:14.229Z"
   },
   {
    "duration": 1212,
    "start_time": "2022-03-29T14:17:25.292Z"
   },
   {
    "duration": 62,
    "start_time": "2022-03-29T14:17:26.506Z"
   },
   {
    "duration": 18,
    "start_time": "2022-03-29T14:17:26.570Z"
   },
   {
    "duration": 8,
    "start_time": "2022-03-29T14:17:26.589Z"
   },
   {
    "duration": 4,
    "start_time": "2022-03-29T14:17:26.598Z"
   },
   {
    "duration": 6,
    "start_time": "2022-03-29T14:17:26.604Z"
   },
   {
    "duration": 15,
    "start_time": "2022-03-29T14:17:26.611Z"
   },
   {
    "duration": 9,
    "start_time": "2022-03-29T14:17:26.628Z"
   },
   {
    "duration": 224,
    "start_time": "2022-03-29T14:17:26.639Z"
   },
   {
    "duration": 217,
    "start_time": "2022-03-29T14:17:26.864Z"
   },
   {
    "duration": 14,
    "start_time": "2022-03-29T14:17:27.082Z"
   },
   {
    "duration": 20,
    "start_time": "2022-03-29T14:17:27.097Z"
   },
   {
    "duration": 8,
    "start_time": "2022-03-29T14:17:27.119Z"
   },
   {
    "duration": 11,
    "start_time": "2022-03-29T14:17:27.130Z"
   },
   {
    "duration": 39,
    "start_time": "2022-03-29T14:17:27.143Z"
   },
   {
    "duration": 8,
    "start_time": "2022-03-29T14:17:27.184Z"
   },
   {
    "duration": 8,
    "start_time": "2022-03-29T14:17:27.193Z"
   },
   {
    "duration": 13,
    "start_time": "2022-03-29T14:17:27.202Z"
   },
   {
    "duration": 7,
    "start_time": "2022-03-29T14:17:27.217Z"
   },
   {
    "duration": 10,
    "start_time": "2022-03-29T14:17:27.226Z"
   },
   {
    "duration": 179,
    "start_time": "2022-03-29T14:17:27.238Z"
   },
   {
    "duration": 121,
    "start_time": "2022-03-29T14:17:27.418Z"
   },
   {
    "duration": 260,
    "start_time": "2022-03-29T14:17:27.541Z"
   },
   {
    "duration": 8,
    "start_time": "2022-03-29T14:17:27.802Z"
   },
   {
    "duration": 310,
    "start_time": "2022-03-29T14:17:27.811Z"
   },
   {
    "duration": 517,
    "start_time": "2022-03-29T14:17:28.123Z"
   },
   {
    "duration": 416,
    "start_time": "2022-03-29T14:17:28.642Z"
   },
   {
    "duration": 567,
    "start_time": "2022-03-29T14:17:29.060Z"
   },
   {
    "duration": 119,
    "start_time": "2022-03-29T14:17:29.629Z"
   },
   {
    "duration": 4,
    "start_time": "2022-03-29T14:17:29.749Z"
   },
   {
    "duration": 26,
    "start_time": "2022-03-29T14:17:29.755Z"
   },
   {
    "duration": 197,
    "start_time": "2022-03-29T14:17:29.782Z"
   },
   {
    "duration": 117,
    "start_time": "2022-03-29T14:17:29.980Z"
   },
   {
    "duration": 4,
    "start_time": "2022-03-29T14:17:30.098Z"
   },
   {
    "duration": 199,
    "start_time": "2022-03-29T14:17:30.103Z"
   },
   {
    "duration": 19,
    "start_time": "2022-03-29T14:17:30.303Z"
   },
   {
    "duration": 16,
    "start_time": "2022-03-29T14:17:30.323Z"
   },
   {
    "duration": 182,
    "start_time": "2022-03-29T14:17:30.341Z"
   },
   {
    "duration": 9,
    "start_time": "2022-03-29T14:17:30.524Z"
   },
   {
    "duration": 27,
    "start_time": "2022-03-29T14:17:30.534Z"
   },
   {
    "duration": 34,
    "start_time": "2022-03-29T14:17:30.564Z"
   },
   {
    "duration": 12,
    "start_time": "2022-03-29T14:17:30.599Z"
   },
   {
    "duration": 1476,
    "start_time": "2022-03-30T04:06:07.257Z"
   },
   {
    "duration": 46,
    "start_time": "2022-03-30T04:06:08.736Z"
   },
   {
    "duration": 29,
    "start_time": "2022-03-30T04:06:08.784Z"
   },
   {
    "duration": 12,
    "start_time": "2022-03-30T04:06:08.816Z"
   },
   {
    "duration": 6,
    "start_time": "2022-03-30T04:06:08.830Z"
   },
   {
    "duration": 35,
    "start_time": "2022-03-30T04:06:08.839Z"
   },
   {
    "duration": 21,
    "start_time": "2022-03-30T04:06:08.876Z"
   },
   {
    "duration": 20,
    "start_time": "2022-03-30T04:06:08.900Z"
   },
   {
    "duration": 422,
    "start_time": "2022-03-30T04:06:08.923Z"
   },
   {
    "duration": 424,
    "start_time": "2022-03-30T04:06:09.349Z"
   },
   {
    "duration": 23,
    "start_time": "2022-03-30T04:06:09.776Z"
   },
   {
    "duration": 27,
    "start_time": "2022-03-30T04:06:09.803Z"
   },
   {
    "duration": 50,
    "start_time": "2022-03-30T04:06:09.833Z"
   },
   {
    "duration": 21,
    "start_time": "2022-03-30T04:06:09.886Z"
   },
   {
    "duration": 22,
    "start_time": "2022-03-30T04:06:09.910Z"
   },
   {
    "duration": 20,
    "start_time": "2022-03-30T04:06:09.973Z"
   },
   {
    "duration": 19,
    "start_time": "2022-03-30T04:06:09.997Z"
   },
   {
    "duration": 19,
    "start_time": "2022-03-30T04:06:10.018Z"
   },
   {
    "duration": 44,
    "start_time": "2022-03-30T04:06:10.039Z"
   },
   {
    "duration": 19,
    "start_time": "2022-03-30T04:06:10.084Z"
   },
   {
    "duration": 330,
    "start_time": "2022-03-30T04:06:10.105Z"
   },
   {
    "duration": 254,
    "start_time": "2022-03-30T04:06:10.437Z"
   },
   {
    "duration": 498,
    "start_time": "2022-03-30T04:06:10.693Z"
   },
   {
    "duration": 14,
    "start_time": "2022-03-30T04:06:11.193Z"
   },
   {
    "duration": 485,
    "start_time": "2022-03-30T04:06:11.209Z"
   },
   {
    "duration": 751,
    "start_time": "2022-03-30T04:06:11.696Z"
   },
   {
    "duration": 589,
    "start_time": "2022-03-30T04:06:12.449Z"
   },
   {
    "duration": 809,
    "start_time": "2022-03-30T04:06:13.043Z"
   },
   {
    "duration": 334,
    "start_time": "2022-03-30T04:06:13.854Z"
   },
   {
    "duration": 6,
    "start_time": "2022-03-30T04:06:14.191Z"
   },
   {
    "duration": 51,
    "start_time": "2022-03-30T04:06:14.199Z"
   },
   {
    "duration": 390,
    "start_time": "2022-03-30T04:06:14.253Z"
   },
   {
    "duration": 235,
    "start_time": "2022-03-30T04:06:14.645Z"
   },
   {
    "duration": 6,
    "start_time": "2022-03-30T04:06:14.883Z"
   },
   {
    "duration": 404,
    "start_time": "2022-03-30T04:06:14.891Z"
   },
   {
    "duration": 35,
    "start_time": "2022-03-30T04:06:15.298Z"
   },
   {
    "duration": 10,
    "start_time": "2022-03-30T04:06:15.336Z"
   },
   {
    "duration": 337,
    "start_time": "2022-03-30T04:06:15.375Z"
   },
   {
    "duration": 18,
    "start_time": "2022-03-30T04:06:15.715Z"
   },
   {
    "duration": 39,
    "start_time": "2022-03-30T04:06:15.736Z"
   },
   {
    "duration": 43,
    "start_time": "2022-03-30T04:06:15.778Z"
   },
   {
    "duration": 54,
    "start_time": "2022-03-30T04:06:15.824Z"
   }
  ],
  "kernelspec": {
   "display_name": "Python 3 (ipykernel)",
   "language": "python",
   "name": "python3"
  },
  "language_info": {
   "codemirror_mode": {
    "name": "ipython",
    "version": 3
   },
   "file_extension": ".py",
   "mimetype": "text/x-python",
   "name": "python",
   "nbconvert_exporter": "python",
   "pygments_lexer": "ipython3",
   "version": "3.9.7"
  },
  "toc": {
   "base_numbering": 1,
   "nav_menu": {},
   "number_sections": true,
   "sideBar": true,
   "skip_h1_title": true,
   "title_cell": "Table of Contents",
   "title_sidebar": "Contents",
   "toc_cell": false,
   "toc_position": {},
   "toc_section_display": true,
   "toc_window_display": true
  }
 },
 "nbformat": 4,
 "nbformat_minor": 2
}
